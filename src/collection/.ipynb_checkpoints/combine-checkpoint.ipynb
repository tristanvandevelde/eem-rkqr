{
 "cells": [
  {
   "cell_type": "code",
   "execution_count": 7,
   "id": "124a4b97",
   "metadata": {},
   "outputs": [],
   "source": [
    "import pandas as pd\n",
    "import functools"
   ]
  },
  {
   "cell_type": "markdown",
   "id": "36d49d0a",
   "metadata": {},
   "source": [
    "# Prices"
   ]
  },
  {
   "cell_type": "code",
   "execution_count": 8,
   "id": "9e341782",
   "metadata": {},
   "outputs": [],
   "source": [
    "#priceBE = pd.read_csv(\"../data/priceDAH_BE.csv\")\n",
    "#priceNL = pd.read_csv(\"../data/priceDAH_NL.csv\")\n",
    "#priceFR = pd.read_csv(\"../data/priceDAH_FR.csv\")\n",
    "priceDELU = pd.read_csv(\"../../data/priceDAH_DELU.csv\")\n",
    "priceDEATLU = pd.read_csv(\"../../data/priceDAH_DEATLU.csv\")"
   ]
  },
  {
   "cell_type": "code",
   "execution_count": 9,
   "id": "6745ff34",
   "metadata": {},
   "outputs": [],
   "source": [
    "priceDE = pd.concat([priceDELU, priceDEATLU], ignore_index=True)\n",
    "priceDE.sort_values(by=[\"datetime\"], inplace=True)"
   ]
  },
  {
   "cell_type": "code",
   "execution_count": 11,
   "id": "33a0508d",
   "metadata": {},
   "outputs": [],
   "source": [
    "priceDE.to_csv(\"../../data/priceDAH_DE.csv\", index=False)"
   ]
  },
  {
   "cell_type": "code",
   "execution_count": 5,
   "id": "f491c653",
   "metadata": {},
   "outputs": [],
   "source": [
    "priceDE.rename(columns={\"price\": \"priceDE\"}, inplace=True)\n",
    "#priceFR.rename(columns={\"price\": \"priceFR\"}, inplace=True)\n",
    "#priceNL.rename(columns={\"price\": \"priceNL\"}, inplace=True)\n",
    "#priceBE.rename(columns={\"price\": \"priceBE\"}, inplace=True)"
   ]
  },
  {
   "cell_type": "code",
   "execution_count": 6,
   "id": "5f691497",
   "metadata": {},
   "outputs": [],
   "source": []
  },
  {
   "cell_type": "code",
   "execution_count": 6,
   "id": "66bdb26c",
   "metadata": {},
   "outputs": [],
   "source": [
    "df_list = [priceBE, priceNL, priceFR, priceDE]"
   ]
  },
  {
   "cell_type": "code",
   "execution_count": 7,
   "id": "2294de11",
   "metadata": {},
   "outputs": [],
   "source": [
    "price_df = functools.reduce(lambda  left,right: pd.merge(left,right,\n",
    "                                            on=['datetime'],\n",
    "                                            how='outer'),\n",
    "               df_list)"
   ]
  },
  {
   "cell_type": "code",
   "execution_count": 8,
   "id": "897fd8be",
   "metadata": {},
   "outputs": [],
   "source": [
    "price_df.to_csv(\"../data/price_CWE.csv\", index=False)"
   ]
  },
  {
   "cell_type": "markdown",
   "id": "d89a46a9",
   "metadata": {},
   "source": [
    "# Load"
   ]
  },
  {
   "cell_type": "code",
   "execution_count": 14,
   "id": "457c5564",
   "metadata": {},
   "outputs": [],
   "source": [
    "#loadBE = pd.read_csv(\"../data/loadDAH_BE.csv\")\n",
    "#loadNL = pd.read_csv(\"../data/loadDAH_NL.csv\")\n",
    "#loadFR = pd.read_csv(\"../data/loadDAH_FR.csv\")\n",
    "loadDELU = pd.read_csv(\"../../data/loadDAH_DELU.csv\")\n",
    "loadDEATLU = pd.read_csv(\"../../data/loadDAH_DEATLU.csv\")"
   ]
  },
  {
   "cell_type": "code",
   "execution_count": 15,
   "id": "6149f088",
   "metadata": {},
   "outputs": [],
   "source": [
    "loadDE = pd.concat([loadDELU, loadDEATLU], ignore_index=True)\n",
    "loadDE.sort_values(by=[\"datetime\"], inplace=True)"
   ]
  },
  {
   "cell_type": "code",
   "execution_count": 17,
   "id": "9b8381fb",
   "metadata": {},
   "outputs": [],
   "source": [
    "loadDE.to_csv(\"../../data/loadDAH_DE.csv\", index=False)"
   ]
  },
  {
   "cell_type": "code",
   "execution_count": 6,
   "id": "604cd6d8",
   "metadata": {},
   "outputs": [],
   "source": [
    "loadDE.rename(columns={\"load\": \"loadDE\"}, inplace=True)\n",
    "loadFR.rename(columns={\"load\": \"loadFR\"}, inplace=True)\n",
    "loadNL.rename(columns={\"load\": \"loadNL\"}, inplace=True)\n",
    "loadBE.rename(columns={\"load\": \"loadBE\"}, inplace=True)"
   ]
  },
  {
   "cell_type": "code",
   "execution_count": 7,
   "id": "09d81aba",
   "metadata": {},
   "outputs": [],
   "source": [
    "df_list = [loadBE, loadNL, loadFR, loadDE]"
   ]
  },
  {
   "cell_type": "code",
   "execution_count": 8,
   "id": "1f0cd9a4",
   "metadata": {},
   "outputs": [],
   "source": [
    "load_df = functools.reduce(lambda  left,right: pd.merge(left,right,\n",
    "                                            on=['datetime'],\n",
    "                                            how='outer'),\n",
    "               df_list)"
   ]
  },
  {
   "cell_type": "code",
   "execution_count": 9,
   "id": "6a864847",
   "metadata": {},
   "outputs": [
    {
     "data": {
      "text/html": [
       "<div>\n",
       "<style scoped>\n",
       "    .dataframe tbody tr th:only-of-type {\n",
       "        vertical-align: middle;\n",
       "    }\n",
       "\n",
       "    .dataframe tbody tr th {\n",
       "        vertical-align: top;\n",
       "    }\n",
       "\n",
       "    .dataframe thead th {\n",
       "        text-align: right;\n",
       "    }\n",
       "</style>\n",
       "<table border=\"1\" class=\"dataframe\">\n",
       "  <thead>\n",
       "    <tr style=\"text-align: right;\">\n",
       "      <th></th>\n",
       "      <th>datetime</th>\n",
       "      <th>loadBE</th>\n",
       "      <th>loadNL</th>\n",
       "      <th>loadFR</th>\n",
       "      <th>loadDE</th>\n",
       "    </tr>\n",
       "  </thead>\n",
       "  <tbody>\n",
       "    <tr>\n",
       "      <th>0</th>\n",
       "      <td>2014-12-31 23:00:00</td>\n",
       "      <td>9452.25</td>\n",
       "      <td>9782.00</td>\n",
       "      <td>69637.5</td>\n",
       "      <td>49306.25</td>\n",
       "    </tr>\n",
       "    <tr>\n",
       "      <th>1</th>\n",
       "      <td>2015-01-01 00:00:00</td>\n",
       "      <td>9955.25</td>\n",
       "      <td>9011.50</td>\n",
       "      <td>61512.5</td>\n",
       "      <td>46952.50</td>\n",
       "    </tr>\n",
       "    <tr>\n",
       "      <th>2</th>\n",
       "      <td>2015-01-01 01:00:00</td>\n",
       "      <td>9521.00</td>\n",
       "      <td>8607.75</td>\n",
       "      <td>61550.0</td>\n",
       "      <td>45751.50</td>\n",
       "    </tr>\n",
       "    <tr>\n",
       "      <th>3</th>\n",
       "      <td>2015-01-01 02:00:00</td>\n",
       "      <td>9134.75</td>\n",
       "      <td>8461.75</td>\n",
       "      <td>64425.0</td>\n",
       "      <td>45306.25</td>\n",
       "    </tr>\n",
       "    <tr>\n",
       "      <th>4</th>\n",
       "      <td>2015-01-01 03:00:00</td>\n",
       "      <td>8909.00</td>\n",
       "      <td>8499.50</td>\n",
       "      <td>65487.5</td>\n",
       "      <td>45423.00</td>\n",
       "    </tr>\n",
       "    <tr>\n",
       "      <th>...</th>\n",
       "      <td>...</td>\n",
       "      <td>...</td>\n",
       "      <td>...</td>\n",
       "      <td>...</td>\n",
       "      <td>...</td>\n",
       "    </tr>\n",
       "    <tr>\n",
       "      <th>70123</th>\n",
       "      <td>2022-12-31 18:00:00</td>\n",
       "      <td>9811.50</td>\n",
       "      <td>13399.50</td>\n",
       "      <td>NaN</td>\n",
       "      <td>49408.50</td>\n",
       "    </tr>\n",
       "    <tr>\n",
       "      <th>70124</th>\n",
       "      <td>2022-12-31 19:00:00</td>\n",
       "      <td>9171.00</td>\n",
       "      <td>13044.75</td>\n",
       "      <td>NaN</td>\n",
       "      <td>46328.50</td>\n",
       "    </tr>\n",
       "    <tr>\n",
       "      <th>70125</th>\n",
       "      <td>2022-12-31 20:00:00</td>\n",
       "      <td>8592.75</td>\n",
       "      <td>12712.25</td>\n",
       "      <td>NaN</td>\n",
       "      <td>44857.50</td>\n",
       "    </tr>\n",
       "    <tr>\n",
       "      <th>70126</th>\n",
       "      <td>2022-12-31 21:00:00</td>\n",
       "      <td>8693.50</td>\n",
       "      <td>12290.25</td>\n",
       "      <td>NaN</td>\n",
       "      <td>44245.50</td>\n",
       "    </tr>\n",
       "    <tr>\n",
       "      <th>70127</th>\n",
       "      <td>2022-12-31 22:00:00</td>\n",
       "      <td>8662.50</td>\n",
       "      <td>11727.50</td>\n",
       "      <td>NaN</td>\n",
       "      <td>43262.75</td>\n",
       "    </tr>\n",
       "  </tbody>\n",
       "</table>\n",
       "<p>70128 rows × 5 columns</p>\n",
       "</div>"
      ],
      "text/plain": [
       "                  datetime   loadBE    loadNL   loadFR    loadDE\n",
       "0      2014-12-31 23:00:00  9452.25   9782.00  69637.5  49306.25\n",
       "1      2015-01-01 00:00:00  9955.25   9011.50  61512.5  46952.50\n",
       "2      2015-01-01 01:00:00  9521.00   8607.75  61550.0  45751.50\n",
       "3      2015-01-01 02:00:00  9134.75   8461.75  64425.0  45306.25\n",
       "4      2015-01-01 03:00:00  8909.00   8499.50  65487.5  45423.00\n",
       "...                    ...      ...       ...      ...       ...\n",
       "70123  2022-12-31 18:00:00  9811.50  13399.50      NaN  49408.50\n",
       "70124  2022-12-31 19:00:00  9171.00  13044.75      NaN  46328.50\n",
       "70125  2022-12-31 20:00:00  8592.75  12712.25      NaN  44857.50\n",
       "70126  2022-12-31 21:00:00  8693.50  12290.25      NaN  44245.50\n",
       "70127  2022-12-31 22:00:00  8662.50  11727.50      NaN  43262.75\n",
       "\n",
       "[70128 rows x 5 columns]"
      ]
     },
     "execution_count": 9,
     "metadata": {},
     "output_type": "execute_result"
    }
   ],
   "source": [
    "load_df"
   ]
  },
  {
   "cell_type": "code",
   "execution_count": 10,
   "id": "4ede50ce",
   "metadata": {},
   "outputs": [],
   "source": [
    "load_df.to_csv(\"../data/load_CWE.csv\", index=False)"
   ]
  },
  {
   "cell_type": "markdown",
   "id": "cd6ee44e",
   "metadata": {},
   "source": [
    "# Renewables"
   ]
  },
  {
   "cell_type": "code",
   "execution_count": 24,
   "id": "5811bc76",
   "metadata": {},
   "outputs": [],
   "source": [
    "renewablesBE = pd.read_csv(\"../data/renewablesDAH_BE.csv\")\n",
    "renewablesNL = pd.read_csv(\"../data/renewablesDAH_NL.csv\")\n",
    "renewablesFR = pd.read_csv(\"../data/renewablesDAH_FR.csv\")\n",
    "renewablesDELU = pd.read_csv(\"../data/renewablesDAH_DELU.csv\")\n",
    "renewablesDEATLU = pd.read_csv(\"../data/renewablesDAH_DEATLU.csv\")"
   ]
  },
  {
   "cell_type": "code",
   "execution_count": 25,
   "id": "05fe22fd",
   "metadata": {},
   "outputs": [],
   "source": [
    "renewablesDE = pd.concat([renewablesDELU, renewablesDEATLU], ignore_index=True)\n",
    "renewablesDE.sort_values(by=[\"datetime\"], inplace=True)"
   ]
  },
  {
   "cell_type": "code",
   "execution_count": 26,
   "id": "734ed78b",
   "metadata": {},
   "outputs": [],
   "source": [
    "renewablesDE.rename(columns={\"solar\": \"solarDE\"}, inplace=True)\n",
    "renewablesDE.rename(columns={\"wind_onshore\": \"wind_onshoreDE\"}, inplace=True)\n",
    "renewablesDE.rename(columns={\"wind_offshore\": \"wind_offshoreDE\"}, inplace=True)\n",
    "\n",
    "renewablesNL.rename(columns={\"solar\": \"solarNL\"}, inplace=True)\n",
    "renewablesNL.rename(columns={\"wind_onshore\": \"wind_onshoreNL\"}, inplace=True)\n",
    "renewablesNL.rename(columns={\"wind_offshore\": \"wind_offshoreNL\"}, inplace=True)\n",
    "\n",
    "renewablesFR.rename(columns={\"solar\": \"solarFR\"}, inplace=True)\n",
    "renewablesFR.rename(columns={\"wind_onshore\": \"wind_onshoreFR\"}, inplace=True)\n",
    "\n",
    "renewablesBE.rename(columns={\"solar\": \"solarBE\"}, inplace=True)\n",
    "renewablesBE.rename(columns={\"wind_onshore\": \"wind_onshoreBE\"}, inplace=True)\n",
    "renewablesBE.rename(columns={\"wind_offshore\": \"wind_offshoreBE\"}, inplace=True)"
   ]
  },
  {
   "cell_type": "code",
   "execution_count": 27,
   "id": "70b71bcf",
   "metadata": {},
   "outputs": [],
   "source": [
    "df_list = [renewablesBE, renewablesNL, renewablesFR, renewablesDE]"
   ]
  },
  {
   "cell_type": "code",
   "execution_count": 28,
   "id": "b331c161",
   "metadata": {},
   "outputs": [],
   "source": [
    "renewables_df = functools.reduce(lambda  left,right: pd.merge(left,right,\n",
    "                                            on=['datetime'],\n",
    "                                            how='outer'),\n",
    "               df_list)"
   ]
  },
  {
   "cell_type": "code",
   "execution_count": 29,
   "id": "e67f4a89",
   "metadata": {},
   "outputs": [],
   "source": [
    "renewables_df.to_csv(\"../data/renewables_CWE\", index=False)"
   ]
  },
  {
   "cell_type": "markdown",
   "id": "9bfa00ae",
   "metadata": {},
   "source": [
    "# Generation"
   ]
  },
  {
   "cell_type": "code",
   "execution_count": 18,
   "id": "60cd2e5a",
   "metadata": {},
   "outputs": [],
   "source": [
    "#generationBE = pd.read_csv(\"../../data/generationDAH_BE.csv\")\n",
    "#generationNL = pd.read_csv(\"../../data/generationDAH_NL.csv\")\n",
    "#generationFR = pd.read_csv(\"../data/generationDAH_FR.csv\")\n",
    "generationDELU = pd.read_csv(\"../../data/generationDAH_DELU.csv\")\n",
    "generationDEATLU = pd.read_csv(\"../../data/generationDAH_DEATLU.csv\")"
   ]
  },
  {
   "cell_type": "code",
   "execution_count": 19,
   "id": "4e2e1caa",
   "metadata": {},
   "outputs": [],
   "source": [
    "generationDEATLU = generationDEATLU.groupby(by=\"datetime\").max()\n",
    "generationDEATLU[\"datetime\"] = generationDEATLU.index"
   ]
  },
  {
   "cell_type": "code",
   "execution_count": 20,
   "id": "ad836c13",
   "metadata": {},
   "outputs": [],
   "source": [
    "generationDE = pd.concat([generationDELU, generationDEATLU], ignore_index=True)\n",
    "generationDE.sort_values(by=[\"datetime\"], inplace=True)"
   ]
  },
  {
   "cell_type": "code",
   "execution_count": 22,
   "id": "0f0b5bd4",
   "metadata": {},
   "outputs": [],
   "source": [
    "generationDE.to_csv(\"../../data/generationDAH_DE.csv\", index=False)"
   ]
  },
  {
   "cell_type": "code",
   "execution_count": 41,
   "id": "c5ee7442",
   "metadata": {},
   "outputs": [],
   "source": [
    "generationDE.rename(columns={\"generation\": \"generationDE\"}, inplace=True)\n",
    "generationBE.rename(columns={\"generation\": \"generationBE\"}, inplace=True)\n",
    "generationNL.rename(columns={\"generation\": \"generationNL\"}, inplace=True)\n",
    "generationFR.rename(columns={\"generation\": \"generationFR\"}, inplace=True)"
   ]
  },
  {
   "cell_type": "code",
   "execution_count": 42,
   "id": "5c64ac71",
   "metadata": {},
   "outputs": [],
   "source": [
    "df_list = [generationBE, generationNL, generationFR, generationDE]"
   ]
  },
  {
   "cell_type": "code",
   "execution_count": 43,
   "id": "e21de9b8",
   "metadata": {},
   "outputs": [],
   "source": [
    "generation_df = functools.reduce(lambda  left,right: pd.merge(left,right,\n",
    "                                            on=['datetime'],\n",
    "                                            how='outer'),\n",
    "               df_list)"
   ]
  },
  {
   "cell_type": "code",
   "execution_count": 44,
   "id": "68b00b17",
   "metadata": {},
   "outputs": [],
   "source": [
    "generation_df.to_csv(\"../data/generation_CWE.csv\", index=False)"
   ]
  },
  {
   "cell_type": "markdown",
   "id": "2900f859",
   "metadata": {},
   "source": [
    "# Combination"
   ]
  },
  {
   "cell_type": "code",
   "execution_count": 21,
   "id": "27b906cd",
   "metadata": {},
   "outputs": [],
   "source": [
    "df_list = [generation_df, load_df, price_df]"
   ]
  },
  {
   "cell_type": "code",
   "execution_count": 22,
   "id": "83e45baf",
   "metadata": {},
   "outputs": [],
   "source": [
    "out_df = functools.reduce(lambda  left,right: pd.merge(left,right,\n",
    "                                            on=['datetime'],\n",
    "                                            how='outer'),\n",
    "               df_list)"
   ]
  },
  {
   "cell_type": "code",
   "execution_count": 23,
   "id": "d86671b2",
   "metadata": {},
   "outputs": [],
   "source": [
    "out_df.to_csv(\"../data/data_CWE.csv\")"
   ]
  },
  {
   "cell_type": "code",
   "execution_count": null,
   "id": "746a1585",
   "metadata": {},
   "outputs": [],
   "source": [
    "# renewables are not yet incorporated"
   ]
  }
 ],
 "metadata": {
  "kernelspec": {
   "display_name": "Python 3 (ipykernel)",
   "language": "python",
   "name": "python3"
  },
  "language_info": {
   "codemirror_mode": {
    "name": "ipython",
    "version": 3
   },
   "file_extension": ".py",
   "mimetype": "text/x-python",
   "name": "python",
   "nbconvert_exporter": "python",
   "pygments_lexer": "ipython3",
   "version": "3.9.12"
  }
 },
 "nbformat": 4,
 "nbformat_minor": 5
}

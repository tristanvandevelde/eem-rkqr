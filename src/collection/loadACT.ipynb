{
 "cells": [
  {
   "cell_type": "code",
   "execution_count": 10,
   "id": "7ff0a296",
   "metadata": {},
   "outputs": [],
   "source": [
    "import pandas as pd\n",
    "import requests\n",
    "import xml.etree.ElementTree as ET\n",
    "from tqdm import tqdm\n",
    "import sys\n",
    "sys.path.append(\"..\")\n",
    "\n",
    "import config"
   ]
  },
  {
   "cell_type": "code",
   "execution_count": 11,
   "id": "a3030788",
   "metadata": {},
   "outputs": [],
   "source": [
    "domain = \"10YBE----------2\"\n",
    "\n",
    "dates = range(2015, 2023)\n",
    "#loadACT_df = pd.DataFrame([], columns = [\"datetime\", \"load\"])\n",
    "temp_df = pd.DataFrame([], columns = [\"datetime\", \"load\"])"
   ]
  },
  {
   "cell_type": "code",
   "execution_count": 12,
   "id": "6b841cc3",
   "metadata": {},
   "outputs": [],
   "source": [
    "def get_response(year, BZ):\n",
    "    \n",
    "    \"\"\"\n",
    "    This function takes in a year and a bidding zone.\n",
    "    It calls the API, and returns the API response.\n",
    "    This can be fed to the data format function.\n",
    "    \"\"\"\n",
    "    \n",
    "    startdate = str(year) + \"01010000\"\n",
    "    enddate = str(year) + \"12312300\"\n",
    "    domain = BZ\n",
    "    \n",
    "    try:\n",
    "        response = requests.get(\"https://web-api.tp.entsoe.eu/api\",\n",
    "                        params = {\"securityToken\": config.security_token,\n",
    "                                \"documentType\": \"A65\",\n",
    "                                \"processType\": \"A16\",\n",
    "                                \"outBiddingZone_Domain\": domain,\n",
    "                                \"periodStart\": startdate,\n",
    "                                \"periodEnd\": enddate})\n",
    "    except requests.exceptions.RequestException as e:\n",
    "        raise SystemExit(e)\n",
    "        \n",
    "    return response"
   ]
  },
  {
   "cell_type": "code",
   "execution_count": 13,
   "id": "65fc09a1",
   "metadata": {},
   "outputs": [],
   "source": [
    "def parse_data(resp):\n",
    "    \"\"\"\n",
    "    This function takes in a response from the API.\n",
    "    It returns a pandas dataframe with variables start and price. \n",
    "    Price is a number, and start is a datetime variable.\n",
    "    The index starts at 0 and goes until the end.\n",
    "    This function is to be executed per year, per bidding zone.\n",
    "    Resulting dataframes can then later be combined.\n",
    "    \"\"\"\n",
    "    response = resp\n",
    "    root = ET.fromstring(response.content)\n",
    "    timeseries = root.findall(\"./{urn:iec62325.351:tc57wg16:451-6:generationloaddocument:3:0}TimeSeries\")\n",
    "    data = timeseries[0][6]\n",
    "\n",
    "    df_cols = [\"start\", \"position\", \"quantity\"]\n",
    "    df_rows = []\n",
    "\n",
    "    for child in data[2:]:\n",
    "        df_rows.append({\n",
    "            \"start\": data[0][0].text,\n",
    "            \"position\": child[0].text,\n",
    "            \"quantity\": child[1].text\n",
    "        })\n",
    "\n",
    "    combined_df = pd.DataFrame(df_rows, columns = df_cols)\n",
    "\n",
    "    # print(f\"Resolution {data[1].text}\")\n",
    "\n",
    "    combined_df[\"start\"] = combined_df[\"start\"].astype(\"datetime64\")\n",
    "    combined_df[\"position\"] = pd.to_timedelta(combined_df[\"position\"].astype(\"int\")*15, unit=\"m\")\n",
    "    \n",
    "    out_df = pd.DataFrame([], columns = [\"datetime\", \"load\"])\n",
    "    out_df[\"datetime\"] = combined_df[\"start\"] + combined_df[\"position\"] - pd.to_timedelta(15, unit=\"m\")\n",
    "    out_df[\"load\"] = combined_df[\"quantity\"]\n",
    "    \n",
    "    return out_df"
   ]
  },
  {
   "cell_type": "code",
   "execution_count": 14,
   "id": "b4ab3a70",
   "metadata": {},
   "outputs": [
    {
     "name": "stderr",
     "output_type": "stream",
     "text": [
      "100%|█████████████████████████████████████████████| 8/8 [00:34<00:00,  4.29s/it]\n"
     ]
    }
   ],
   "source": [
    "for year in tqdm(dates):\n",
    "    resp = get_response(year, domain)\n",
    "    out_df = parse_data(resp)\n",
    "    temp_df = pd.concat([temp_df, out_df], axis=0, ignore_index=True)"
   ]
  },
  {
   "cell_type": "code",
   "execution_count": 15,
   "id": "752a9272",
   "metadata": {},
   "outputs": [],
   "source": [
    "# convert from 15 minutes to 60 minutes\n",
    "temp_df[\"load\"] = temp_df[\"load\"].astype(float)\n",
    "hourly = temp_df.resample(\"H\", on=\"datetime\").load.mean()\n",
    "loadACT_df = pd.DataFrame({\"datetime\": hourly.index, \"load\": hourly.values})"
   ]
  },
  {
   "cell_type": "code",
   "execution_count": 17,
   "id": "9618263b",
   "metadata": {},
   "outputs": [],
   "source": [
    "loadACT_df.to_csv(\"../data/temp/loadACT.csv\", index=False)"
   ]
  },
  {
   "cell_type": "code",
   "execution_count": null,
   "id": "6e29cc1f",
   "metadata": {},
   "outputs": [],
   "source": []
  }
 ],
 "metadata": {
  "kernelspec": {
   "display_name": "Python 3 (ipykernel)",
   "language": "python",
   "name": "python3"
  },
  "language_info": {
   "codemirror_mode": {
    "name": "ipython",
    "version": 3
   },
   "file_extension": ".py",
   "mimetype": "text/x-python",
   "name": "python",
   "nbconvert_exporter": "python",
   "pygments_lexer": "ipython3",
   "version": "3.9.12"
  }
 },
 "nbformat": 4,
 "nbformat_minor": 5
}

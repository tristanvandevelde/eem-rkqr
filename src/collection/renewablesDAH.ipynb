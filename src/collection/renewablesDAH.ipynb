{
 "cells": [
  {
   "cell_type": "code",
   "execution_count": 1,
   "id": "6e9b6fa9",
   "metadata": {},
   "outputs": [],
   "source": [
    "import pandas as pd\n",
    "import requests\n",
    "import xml.etree.ElementTree as ET\n",
    "from tqdm import tqdm\n",
    "import sys\n",
    "sys.path.append(\"..\")\n",
    "\n",
    "import config"
   ]
  },
  {
   "cell_type": "code",
   "execution_count": 29,
   "id": "2327ff73",
   "metadata": {},
   "outputs": [],
   "source": [
    "domain = \"10YFR-RTE------C\"\n",
    "\n",
    "# DOMAINS\n",
    "# be: 10YBE----------2\n",
    "# de/lu: 10Y1001A1001A82H\n",
    "# de/at/lu: 10Y1001A1001A63L\n",
    "# nl: 10YNL----------L\n",
    "# fr: 10YFR-RTE------C\n",
    "\n",
    "dates = range(2015, 2023)\n",
    "renewablesDAH_df = pd.DataFrame([], columns = [\"datetime\", \"solar\", \"wind_onshore\", \"wind_offshore\"])"
   ]
  },
  {
   "cell_type": "code",
   "execution_count": 30,
   "id": "9e7f1a10",
   "metadata": {},
   "outputs": [],
   "source": [
    "def get_response(year, BZ, typ):\n",
    "    \n",
    "    \"\"\"\n",
    "    This function takes in a year and a bidding zone.\n",
    "    It calls the API, and returns the API response.\n",
    "    This can be fed to the data format function.\n",
    "    \"\"\"\n",
    "    \n",
    "    startdate = str(year) + \"01010000\"\n",
    "    enddate = str(year) + \"12312300\"\n",
    "    domain = BZ\n",
    "    \n",
    "    try:\n",
    "        response = requests.get(\"https://web-api.tp.entsoe.eu/api\",\n",
    "                        params = {\"securityToken\": config.security_token,\n",
    "                                \"documentType\": \"A69\",\n",
    "                                \"processType\": \"A01\",\n",
    "                                \"psrType\": typ,\n",
    "                                \"in_Domain\": domain,\n",
    "                                \"periodStart\": startdate,\n",
    "                                \"periodEnd\": enddate})\n",
    "    except requests.exceptions.RequestException as e:\n",
    "        raise SystemExit(e)\n",
    "        \n",
    "    return response"
   ]
  },
  {
   "cell_type": "code",
   "execution_count": 31,
   "id": "68e0dc7b",
   "metadata": {},
   "outputs": [],
   "source": [
    "def parse_data(resp):\n",
    "    \"\"\"\n",
    "    This function takes in a response from the API.\n",
    "    It returns a pandas dataframe with variables start and price. \n",
    "    Price is a number, and start is a datetime variable.\n",
    "    The index starts at 0 and goes until the end.\n",
    "    This function is to be executed per year, per bidding zone.\n",
    "    Resulting dataframes can then later be combined.\n",
    "    \"\"\"\n",
    "    response = resp\n",
    "\n",
    "    root = ET.fromstring(response.content)\n",
    "    timeseries = root.findall(\"./{urn:iec62325.351:tc57wg16:451-6:generationloaddocument:3:0}TimeSeries\")\n",
    "\n",
    "    df_cols = [\"start\", \"position\", \"quantity\"]\n",
    "    df_rows = []\n",
    "\n",
    "    for ts in timeseries:\n",
    "        data = ts[7]\n",
    "        for day in data[2:]:\n",
    "            df_rows.append({\n",
    "                \"start\": data[0][0].text,\n",
    "                \"position\": day[0].text,\n",
    "                \"quantity\": day[1].text\n",
    "            })\n",
    "\n",
    "    combined_df = pd.DataFrame(df_rows, columns = df_cols)\n",
    "\n",
    "    #print(f\"Resolution {data[1].text}\")\n",
    "\n",
    "    combined_df[\"start\"] = combined_df[\"start\"].astype(\"datetime64\")\n",
    "    combined_df[\"position\"] = pd.to_timedelta(combined_df[\"position\"].astype(\"int\"), unit=\"h\")\n",
    "    out_df = pd.DataFrame([], columns = [\"datetime\", \"generation\"])\n",
    "    out_df[\"datetime\"] = combined_df[\"start\"] + combined_df[\"position\"] - pd.to_timedelta(1, unit=\"h\")\n",
    "    out_df[\"generation\"] = combined_df[\"quantity\"]\n",
    "\n",
    "    return out_df"
   ]
  },
  {
   "cell_type": "code",
   "execution_count": 32,
   "id": "d2311673",
   "metadata": {},
   "outputs": [],
   "source": [
    "# psr type is a queried production type\n",
    "# B18 wind onshore\n",
    "# B19 wind ofshore\n",
    "# b16 solar\n",
    "# b14 nuclear"
   ]
  },
  {
   "cell_type": "code",
   "execution_count": 33,
   "id": "23d71c3a",
   "metadata": {},
   "outputs": [
    {
     "name": "stderr",
     "output_type": "stream",
     "text": [
      "100%|█████████████████████████████████████████████| 8/8 [00:25<00:00,  3.15s/it]\n"
     ]
    }
   ],
   "source": [
    "# solar\n",
    "# B16\n",
    "solarDAH_df = pd.DataFrame([], columns=[\"datetime\", \"solar\"])\n",
    "for year in tqdm(dates):\n",
    "    resp = get_response(year, domain, \"B16\")\n",
    "    out_df = parse_data(resp)\n",
    "    out_df.rename(columns={\"generation\": \"solar\"}, inplace=True)\n",
    "    solarDAH_df = pd.concat([solarDAH_df, out_df], axis=0, ignore_index=True)"
   ]
  },
  {
   "cell_type": "code",
   "execution_count": 34,
   "id": "9877b350",
   "metadata": {},
   "outputs": [
    {
     "name": "stderr",
     "output_type": "stream",
     "text": [
      "100%|█████████████████████████████████████████████| 8/8 [00:25<00:00,  3.25s/it]\n"
     ]
    }
   ],
   "source": [
    "# wind onshore\n",
    "# B19\n",
    "windonshoreDAH_df = pd.DataFrame([], columns=[\"datetime\", \"wind_onshore\"])\n",
    "for year in tqdm(dates):\n",
    "    resp = get_response(year, domain, \"B19\")\n",
    "    out_df = parse_data(resp)\n",
    "    out_df.rename(columns={\"generation\": \"wind_onshore\"}, inplace=True)\n",
    "    windonshoreDAH_df = pd.concat([windonshoreDAH_df, out_df], axis=0, ignore_index=True)"
   ]
  },
  {
   "cell_type": "code",
   "execution_count": 35,
   "id": "3a239fd5",
   "metadata": {},
   "outputs": [
    {
     "name": "stderr",
     "output_type": "stream",
     "text": [
      "100%|█████████████████████████████████████████████| 8/8 [00:04<00:00,  1.64it/s]\n"
     ]
    }
   ],
   "source": [
    "# wind offshore\n",
    "# B18\n",
    "windoffshoreDAH_df = pd.DataFrame([], columns=[\"datetime\", \"wind_offshore\"])\n",
    "for year in tqdm(dates):\n",
    "    resp = get_response(year, domain, \"B18\")\n",
    "    out_df = parse_data(resp)\n",
    "    out_df.rename(columns={\"generation\": \"wind_offshore\"}, inplace=True)\n",
    "    windoffshoreDAH_df = pd.concat([windoffshoreDAH_df, out_df], axis=0, ignore_index=True)"
   ]
  },
  {
   "cell_type": "code",
   "execution_count": 36,
   "id": "421a10ea",
   "metadata": {},
   "outputs": [],
   "source": [
    "# this one is only for France\n",
    "renewablesDAH_df = solarDAH_df.merge(windonshoreDAH_df,on='datetime')"
   ]
  },
  {
   "cell_type": "code",
   "execution_count": 27,
   "id": "60471ff6",
   "metadata": {},
   "outputs": [],
   "source": [
    "renewablesDAH_df = solarDAH_df.merge(windonshoreDAH_df,on='datetime').merge(windoffshoreDAH_df,on='datetime')"
   ]
  },
  {
   "cell_type": "code",
   "execution_count": 37,
   "id": "ad76b185",
   "metadata": {},
   "outputs": [
    {
     "data": {
      "text/html": [
       "<div>\n",
       "<style scoped>\n",
       "    .dataframe tbody tr th:only-of-type {\n",
       "        vertical-align: middle;\n",
       "    }\n",
       "\n",
       "    .dataframe tbody tr th {\n",
       "        vertical-align: top;\n",
       "    }\n",
       "\n",
       "    .dataframe thead th {\n",
       "        text-align: right;\n",
       "    }\n",
       "</style>\n",
       "<table border=\"1\" class=\"dataframe\">\n",
       "  <thead>\n",
       "    <tr style=\"text-align: right;\">\n",
       "      <th></th>\n",
       "      <th>datetime</th>\n",
       "      <th>solar</th>\n",
       "      <th>wind_onshore</th>\n",
       "    </tr>\n",
       "  </thead>\n",
       "  <tbody>\n",
       "    <tr>\n",
       "      <th>0</th>\n",
       "      <td>2014-12-31 23:00:00</td>\n",
       "      <td>0</td>\n",
       "      <td>1440</td>\n",
       "    </tr>\n",
       "    <tr>\n",
       "      <th>1</th>\n",
       "      <td>2015-01-01 00:00:00</td>\n",
       "      <td>0</td>\n",
       "      <td>1457</td>\n",
       "    </tr>\n",
       "    <tr>\n",
       "      <th>2</th>\n",
       "      <td>2015-01-01 01:00:00</td>\n",
       "      <td>0</td>\n",
       "      <td>1579</td>\n",
       "    </tr>\n",
       "    <tr>\n",
       "      <th>3</th>\n",
       "      <td>2015-01-01 02:00:00</td>\n",
       "      <td>0</td>\n",
       "      <td>1703</td>\n",
       "    </tr>\n",
       "    <tr>\n",
       "      <th>4</th>\n",
       "      <td>2015-01-01 03:00:00</td>\n",
       "      <td>0</td>\n",
       "      <td>1829</td>\n",
       "    </tr>\n",
       "    <tr>\n",
       "      <th>...</th>\n",
       "      <td>...</td>\n",
       "      <td>...</td>\n",
       "      <td>...</td>\n",
       "    </tr>\n",
       "    <tr>\n",
       "      <th>69365</th>\n",
       "      <td>2022-12-31 18:00:00</td>\n",
       "      <td>0</td>\n",
       "      <td>15227</td>\n",
       "    </tr>\n",
       "    <tr>\n",
       "      <th>69366</th>\n",
       "      <td>2022-12-31 19:00:00</td>\n",
       "      <td>0</td>\n",
       "      <td>15020</td>\n",
       "    </tr>\n",
       "    <tr>\n",
       "      <th>69367</th>\n",
       "      <td>2022-12-31 20:00:00</td>\n",
       "      <td>0</td>\n",
       "      <td>14813</td>\n",
       "    </tr>\n",
       "    <tr>\n",
       "      <th>69368</th>\n",
       "      <td>2022-12-31 21:00:00</td>\n",
       "      <td>0</td>\n",
       "      <td>14605</td>\n",
       "    </tr>\n",
       "    <tr>\n",
       "      <th>69369</th>\n",
       "      <td>2022-12-31 22:00:00</td>\n",
       "      <td>0</td>\n",
       "      <td>13881</td>\n",
       "    </tr>\n",
       "  </tbody>\n",
       "</table>\n",
       "<p>69370 rows × 3 columns</p>\n",
       "</div>"
      ],
      "text/plain": [
       "                  datetime solar wind_onshore\n",
       "0      2014-12-31 23:00:00     0         1440\n",
       "1      2015-01-01 00:00:00     0         1457\n",
       "2      2015-01-01 01:00:00     0         1579\n",
       "3      2015-01-01 02:00:00     0         1703\n",
       "4      2015-01-01 03:00:00     0         1829\n",
       "...                    ...   ...          ...\n",
       "69365  2022-12-31 18:00:00     0        15227\n",
       "69366  2022-12-31 19:00:00     0        15020\n",
       "69367  2022-12-31 20:00:00     0        14813\n",
       "69368  2022-12-31 21:00:00     0        14605\n",
       "69369  2022-12-31 22:00:00     0        13881\n",
       "\n",
       "[69370 rows x 3 columns]"
      ]
     },
     "execution_count": 37,
     "metadata": {},
     "output_type": "execute_result"
    }
   ],
   "source": [
    "renewablesDAH_df"
   ]
  },
  {
   "cell_type": "code",
   "execution_count": 38,
   "id": "e2b4f330",
   "metadata": {},
   "outputs": [],
   "source": [
    "renewablesDAH_df.to_csv(\"../data/renewablesDAH_FR.csv\", index=False)"
   ]
  },
  {
   "cell_type": "code",
   "execution_count": null,
   "id": "c8145e7f",
   "metadata": {},
   "outputs": [],
   "source": []
  }
 ],
 "metadata": {
  "kernelspec": {
   "display_name": "Python 3 (ipykernel)",
   "language": "python",
   "name": "python3"
  },
  "language_info": {
   "codemirror_mode": {
    "name": "ipython",
    "version": 3
   },
   "file_extension": ".py",
   "mimetype": "text/x-python",
   "name": "python",
   "nbconvert_exporter": "python",
   "pygments_lexer": "ipython3",
   "version": "3.9.12"
  }
 },
 "nbformat": 4,
 "nbformat_minor": 5
}

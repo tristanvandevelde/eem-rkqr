{
 "cells": [
  {
   "cell_type": "code",
   "execution_count": 44,
   "id": "7715976f",
   "metadata": {},
   "outputs": [],
   "source": [
    "import pandas as pd\n",
    "import functools"
   ]
  },
  {
   "cell_type": "code",
   "execution_count": 45,
   "id": "0fd57854",
   "metadata": {},
   "outputs": [],
   "source": [
    "hour = 17"
   ]
  },
  {
   "cell_type": "markdown",
   "id": "fa3c3644",
   "metadata": {},
   "source": [
    "# price"
   ]
  },
  {
   "cell_type": "code",
   "execution_count": 46,
   "id": "ce4ddd0e",
   "metadata": {},
   "outputs": [],
   "source": [
    "priceBE = pd.read_csv(\"../../data/priceDAH_BE.csv\")\n",
    "priceNL = pd.read_csv(\"../../data/priceDAH_NL.csv\")\n",
    "priceFR = pd.read_csv(\"../../data/priceDAH_FR.csv\")\n",
    "priceDE = pd.read_csv(\"../../data/priceDAH_DE.csv\")"
   ]
  },
  {
   "cell_type": "code",
   "execution_count": 48,
   "id": "c42176b8",
   "metadata": {},
   "outputs": [],
   "source": [
    "priceDE.rename(columns={\"price\": \"priceDE\"}, inplace=True)\n",
    "priceFR.rename(columns={\"price\": \"priceFR\"}, inplace=True)\n",
    "priceNL.rename(columns={\"price\": \"priceNL\"}, inplace=True)\n",
    "priceBE.rename(columns={\"price\": \"priceBE\"}, inplace=True)"
   ]
  },
  {
   "cell_type": "code",
   "execution_count": 49,
   "id": "d1502d7d",
   "metadata": {},
   "outputs": [],
   "source": [
    "df_list = [priceBE, priceNL, priceFR, priceDE]"
   ]
  },
  {
   "cell_type": "code",
   "execution_count": 50,
   "id": "5c391ec1",
   "metadata": {},
   "outputs": [],
   "source": [
    "price_df = functools.reduce(lambda  left,right: pd.merge(left,right,\n",
    "                                            on=['datetime'],\n",
    "                                            how='outer'),\n",
    "               df_list)"
   ]
  },
  {
   "cell_type": "code",
   "execution_count": 52,
   "id": "dc1ccfac",
   "metadata": {},
   "outputs": [],
   "source": [
    "price_df[\"datetime\"] = pd.to_datetime(price_df[\"datetime\"])\n",
    "price_df = price_df[price_df[\"datetime\"].dt.hour == hour]"
   ]
  },
  {
   "cell_type": "markdown",
   "id": "1769f4ec",
   "metadata": {},
   "source": [
    "# load"
   ]
  },
  {
   "cell_type": "code",
   "execution_count": 54,
   "id": "d5350529",
   "metadata": {},
   "outputs": [],
   "source": [
    "loadBE = pd.read_csv(\"../../data/loadDAH_BE.csv\")\n",
    "loadNL = pd.read_csv(\"../../data/loadDAH_NL.csv\")\n",
    "loadFR = pd.read_csv(\"../../data/loadDAH_FR.csv\")\n",
    "loadDE = pd.read_csv(\"../../data/loadDAH_DE.csv\")"
   ]
  },
  {
   "cell_type": "code",
   "execution_count": 55,
   "id": "73a51d45",
   "metadata": {},
   "outputs": [],
   "source": [
    "loadDE.rename(columns={\"load\": \"loadDE\"}, inplace=True)\n",
    "loadFR.rename(columns={\"load\": \"loadFR\"}, inplace=True)\n",
    "loadNL.rename(columns={\"load\": \"loadNL\"}, inplace=True)\n",
    "loadBE.rename(columns={\"load\": \"loadBE\"}, inplace=True)"
   ]
  },
  {
   "cell_type": "code",
   "execution_count": 56,
   "id": "77d196a0",
   "metadata": {},
   "outputs": [],
   "source": [
    "df_list = [loadBE, loadNL, loadFR, loadDE]"
   ]
  },
  {
   "cell_type": "code",
   "execution_count": 57,
   "id": "6bae39ea",
   "metadata": {},
   "outputs": [],
   "source": [
    "load_df = functools.reduce(lambda  left,right: pd.merge(left,right,\n",
    "                                            on=['datetime'],\n",
    "                                            how='outer'),\n",
    "               df_list)"
   ]
  },
  {
   "cell_type": "code",
   "execution_count": 58,
   "id": "c5407687",
   "metadata": {},
   "outputs": [],
   "source": [
    "load_df[\"datetime\"] = pd.to_datetime(load_df[\"datetime\"])\n",
    "load_df = load_df[load_df[\"datetime\"].dt.hour == hour]"
   ]
  },
  {
   "cell_type": "markdown",
   "id": "7fecdd16",
   "metadata": {},
   "source": [
    "# generation"
   ]
  },
  {
   "cell_type": "code",
   "execution_count": 61,
   "id": "dbc93d1e",
   "metadata": {},
   "outputs": [],
   "source": [
    "generationBE = pd.read_csv(\"../../data/generationDAH_BE.csv\")\n",
    "generationNL = pd.read_csv(\"../../data/generationDAH_NL.csv\")\n",
    "generationFR = pd.read_csv(\"../../data/generationDAH_FR.csv\")\n",
    "generationDE = pd.read_csv(\"../../data/generationDAH_DE.csv\")"
   ]
  },
  {
   "cell_type": "code",
   "execution_count": 62,
   "id": "15ae626e",
   "metadata": {},
   "outputs": [],
   "source": [
    "generationDE.rename(columns={\"generation\": \"generationDE\"}, inplace=True)\n",
    "generationBE.rename(columns={\"generation\": \"generationBE\"}, inplace=True)\n",
    "generationNL.rename(columns={\"generation\": \"generationNL\"}, inplace=True)\n",
    "generationFR.rename(columns={\"generation\": \"generationFR\"}, inplace=True)"
   ]
  },
  {
   "cell_type": "code",
   "execution_count": 63,
   "id": "b3928834",
   "metadata": {},
   "outputs": [],
   "source": [
    "df_list = [generationBE, generationNL, generationFR, generationDE]"
   ]
  },
  {
   "cell_type": "code",
   "execution_count": 64,
   "id": "c86b3332",
   "metadata": {},
   "outputs": [],
   "source": [
    "generation_df = functools.reduce(lambda  left,right: pd.merge(left,right,\n",
    "                                            on=['datetime'],\n",
    "                                            how='outer'),\n",
    "               df_list)"
   ]
  },
  {
   "cell_type": "code",
   "execution_count": 65,
   "id": "fcbf0bc1",
   "metadata": {},
   "outputs": [],
   "source": [
    "generation_df[\"datetime\"] = pd.to_datetime(generation_df[\"datetime\"])\n",
    "generation_df = generation_df[generation_df[\"datetime\"].dt.hour == hour]"
   ]
  },
  {
   "cell_type": "markdown",
   "id": "9ed161fa",
   "metadata": {},
   "source": [
    "# renewables BE"
   ]
  },
  {
   "cell_type": "code",
   "execution_count": 67,
   "id": "8d69dafa",
   "metadata": {},
   "outputs": [],
   "source": [
    "renewablesBE = pd.read_csv(\"../../data/renewablesDAH_BE.csv\")"
   ]
  },
  {
   "cell_type": "code",
   "execution_count": 69,
   "id": "402709bd",
   "metadata": {},
   "outputs": [],
   "source": [
    "renewablesBE.rename(columns={\"solar\": \"solarBE\"}, inplace=True)\n",
    "renewablesBE.rename(columns={\"wind_onshore\": \"wind_onshoreBE\"}, inplace=True)\n",
    "renewablesBE.rename(columns={\"wind_offshore\": \"wind_offshoreBE\"}, inplace=True)"
   ]
  },
  {
   "cell_type": "code",
   "execution_count": 70,
   "id": "6d8376f9",
   "metadata": {},
   "outputs": [],
   "source": [
    "renewablesBE[\"datetime\"] = pd.to_datetime(renewablesBE[\"datetime\"])\n",
    "renewablesBE = renewablesBE[renewablesBE[\"datetime\"].dt.hour == hour]"
   ]
  },
  {
   "cell_type": "markdown",
   "id": "12699130",
   "metadata": {},
   "source": [
    "# sunhours"
   ]
  },
  {
   "cell_type": "code",
   "execution_count": 71,
   "id": "96612ee9",
   "metadata": {},
   "outputs": [],
   "source": [
    "sunlightBE = pd.read_csv(\"../../data/sunlight.csv\")"
   ]
  },
  {
   "cell_type": "code",
   "execution_count": 75,
   "id": "e0e45157",
   "metadata": {},
   "outputs": [],
   "source": [
    "sunlightBE.drop([\"Unnamed: 0\"], axis=1, inplace=True)"
   ]
  },
  {
   "cell_type": "code",
   "execution_count": 88,
   "id": "6a91c363",
   "metadata": {},
   "outputs": [],
   "source": [
    "sunlightBE[\"datetime\"] = sunlightBE[\"day\"]"
   ]
  },
  {
   "cell_type": "code",
   "execution_count": 89,
   "id": "939519a6",
   "metadata": {},
   "outputs": [],
   "source": [
    "sunlightBE.drop([\"day\"], axis=1, inplace=True)"
   ]
  },
  {
   "cell_type": "markdown",
   "id": "b5485896",
   "metadata": {},
   "source": [
    "# combining"
   ]
  },
  {
   "cell_type": "code",
   "execution_count": 76,
   "id": "5c9a89a2",
   "metadata": {},
   "outputs": [],
   "source": [
    "df_list = [generation_df, load_df, price_df, renewablesBE]"
   ]
  },
  {
   "cell_type": "code",
   "execution_count": 77,
   "id": "bea6b5cb",
   "metadata": {},
   "outputs": [],
   "source": [
    "out_df = functools.reduce(lambda  left,right: pd.merge(left,right,\n",
    "                                            on=['datetime'],\n",
    "                                            how='outer'),\n",
    "               df_list)"
   ]
  },
  {
   "cell_type": "code",
   "execution_count": 93,
   "id": "fd467793",
   "metadata": {},
   "outputs": [],
   "source": [
    "out_df[\"datetime\"] = pd.to_datetime(out_df[\"datetime\"]).dt.date"
   ]
  },
  {
   "cell_type": "code",
   "execution_count": 91,
   "id": "48e79446",
   "metadata": {},
   "outputs": [
    {
     "data": {
      "text/plain": [
       "0        2015-01-01\n",
       "1        2015-01-02\n",
       "2        2015-01-03\n",
       "3        2015-01-04\n",
       "4        2015-01-05\n",
       "            ...    \n",
       "14566    2023-01-02\n",
       "14567    2023-01-02\n",
       "14568    2023-01-02\n",
       "14569    2023-01-02\n",
       "14570    2023-01-03\n",
       "Name: datetime, Length: 14571, dtype: object"
      ]
     },
     "execution_count": 91,
     "metadata": {},
     "output_type": "execute_result"
    }
   ],
   "source": [
    "#out_df[\"datetime\"]"
   ]
  },
  {
   "cell_type": "code",
   "execution_count": 92,
   "id": "146a592d",
   "metadata": {},
   "outputs": [
    {
     "data": {
      "text/plain": [
       "0       2015-01-01\n",
       "1       2015-01-02\n",
       "2       2015-01-03\n",
       "3       2015-01-04\n",
       "4       2015-01-05\n",
       "           ...    \n",
       "2746    2022-07-09\n",
       "2747    2022-07-10\n",
       "2748    2022-07-11\n",
       "2749    2022-07-12\n",
       "2750    2022-07-13\n",
       "Name: datetime, Length: 2751, dtype: object"
      ]
     },
     "execution_count": 92,
     "metadata": {},
     "output_type": "execute_result"
    }
   ],
   "source": [
    "#sunlightBE[\"datetime\"]"
   ]
  },
  {
   "cell_type": "code",
   "execution_count": 94,
   "id": "a1cf8785",
   "metadata": {},
   "outputs": [],
   "source": [
    "out_df.to_csv(\"../../data/final_17.csv\", index=False)"
   ]
  },
  {
   "cell_type": "code",
   "execution_count": null,
   "id": "14707045",
   "metadata": {},
   "outputs": [],
   "source": []
  }
 ],
 "metadata": {
  "kernelspec": {
   "display_name": "Python 3 (ipykernel)",
   "language": "python",
   "name": "python3"
  },
  "language_info": {
   "codemirror_mode": {
    "name": "ipython",
    "version": 3
   },
   "file_extension": ".py",
   "mimetype": "text/x-python",
   "name": "python",
   "nbconvert_exporter": "python",
   "pygments_lexer": "ipython3",
   "version": "3.9.12"
  }
 },
 "nbformat": 4,
 "nbformat_minor": 5
}

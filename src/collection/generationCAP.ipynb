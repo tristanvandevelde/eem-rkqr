{
 "cells": [
  {
   "cell_type": "code",
   "execution_count": 1,
   "id": "06f7e7fd",
   "metadata": {},
   "outputs": [],
   "source": [
    "import pandas as pd\n",
    "import requests\n",
    "import xml.etree.ElementTree as ET\n",
    "from tqdm import tqdm\n",
    "import sys\n",
    "sys.path.append(\"..\")\n",
    "\n",
    "import config"
   ]
  },
  {
   "cell_type": "code",
   "execution_count": 2,
   "id": "88d77449",
   "metadata": {},
   "outputs": [],
   "source": [
    "domain = \"10YBE----------2\"\n",
    "\n",
    "types = pd.read_csv(\"../PsrType.csv\", sep=\";\")\n",
    "types.set_index(\"Code\", inplace=True)\n",
    "\n",
    "dates = range(2015, 2023)\n",
    "generationCAP_df = pd.DataFrame([], columns = [\"datetime\", \"type\", \"capacity\"])"
   ]
  },
  {
   "cell_type": "code",
   "execution_count": 3,
   "id": "e9219ec4",
   "metadata": {},
   "outputs": [],
   "source": [
    "def get_response(year, BZ):\n",
    "    \n",
    "    \"\"\"\n",
    "    This function takes in a year and a bidding zone.\n",
    "    It calls the API, and returns the API response.\n",
    "    This can be fed to the data format function.\n",
    "    \"\"\"\n",
    "    \n",
    "    startdate = str(year) + \"01010000\"\n",
    "    enddate = str(year) + \"12312300\"\n",
    "    domain = BZ\n",
    "    \n",
    "    try:\n",
    "        response = requests.get(\"https://web-api.tp.entsoe.eu/api\",\n",
    "                        params = {\"securityToken\": config.security_token,\n",
    "                                \"documentType\": \"A68\",\n",
    "                                \"processType\": \"A33\",\n",
    "                                \"in_Domain\": domain,\n",
    "                                \"periodStart\": startdate,\n",
    "                                \"periodEnd\": enddate})\n",
    "    except requests.exceptions.RequestException as e:\n",
    "        raise SystemExit(e)\n",
    "        \n",
    "    return response"
   ]
  },
  {
   "cell_type": "code",
   "execution_count": 4,
   "id": "8292dd0b",
   "metadata": {},
   "outputs": [],
   "source": [
    "def parse_data(resp):\n",
    "    \"\"\"\n",
    "    This function takes in a response from the API.\n",
    "    It returns a pandas dataframe with variables start and price. \n",
    "    Price is a number, and start is a datetime variable.\n",
    "    The index starts at 0 and goes until the end.\n",
    "    This function is to be executed per year, per bidding zone.\n",
    "    Resulting dataframes can then later be combined.\n",
    "    \"\"\"\n",
    "    response = resp\n",
    "\n",
    "    root = ET.fromstring(response.content)\n",
    "    timeseries = root.findall(\"./{urn:iec62325.351:tc57wg16:451-6:generationloaddocument:3:0}TimeSeries\")\n",
    "\n",
    "    df_cols = [\"datetime\", \"type\", \"capacity\"]\n",
    "    df_rows = []\n",
    "\n",
    "    for ts in timeseries:\n",
    "        data = ts[7]\n",
    "        df_rows.append({\n",
    "            \"type\": ts[6][0].text,\n",
    "            \"datetime\": year,\n",
    "            \"capacity\": data[2][1].text\n",
    "        })\n",
    "\n",
    "    out_df = pd.DataFrame(df_rows, columns = df_cols)\n",
    "    out_df[\"type\"] = types.loc[out_df[\"type\"], \"Meaning\"].values\n",
    "\n",
    "    #print(f\"Resolution {data[1].text}\")\n",
    "\n",
    "    return out_df"
   ]
  },
  {
   "cell_type": "code",
   "execution_count": 5,
   "id": "9685e109",
   "metadata": {},
   "outputs": [
    {
     "name": "stderr",
     "output_type": "stream",
     "text": [
      "100%|█████████████████████████████████████████████| 8/8 [00:05<00:00,  1.43it/s]\n"
     ]
    }
   ],
   "source": [
    "for year in tqdm(dates):\n",
    "    resp = get_response(year, domain)\n",
    "    out_df = parse_data(resp)\n",
    "    generationCAP_df = pd.concat([generationCAP_df, out_df], axis=0, ignore_index=True)"
   ]
  },
  {
   "cell_type": "code",
   "execution_count": 7,
   "id": "222789ae",
   "metadata": {},
   "outputs": [],
   "source": [
    "generationCAP_df.to_csv(\"../data/temp/generationCAP.csv\", index=False)"
   ]
  },
  {
   "cell_type": "code",
   "execution_count": null,
   "id": "52b41187",
   "metadata": {},
   "outputs": [],
   "source": []
  }
 ],
 "metadata": {
  "kernelspec": {
   "display_name": "Python 3 (ipykernel)",
   "language": "python",
   "name": "python3"
  },
  "language_info": {
   "codemirror_mode": {
    "name": "ipython",
    "version": 3
   },
   "file_extension": ".py",
   "mimetype": "text/x-python",
   "name": "python",
   "nbconvert_exporter": "python",
   "pygments_lexer": "ipython3",
   "version": "3.9.12"
  }
 },
 "nbformat": 4,
 "nbformat_minor": 5
}

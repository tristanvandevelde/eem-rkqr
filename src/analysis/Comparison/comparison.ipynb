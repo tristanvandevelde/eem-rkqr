{
 "cells": [
  {
   "cell_type": "code",
   "execution_count": 1,
   "id": "00c46e34",
   "metadata": {},
   "outputs": [],
   "source": [
    "import pandas as pd\n",
    "import numpy as np\n",
    "from CRPS import CRPS\n",
    "from sklearn.metrics import mean_pinball_loss"
   ]
  },
  {
   "cell_type": "code",
   "execution_count": 27,
   "id": "a838df74",
   "metadata": {},
   "outputs": [],
   "source": [
    "hour = \"03\""
   ]
  },
  {
   "cell_type": "code",
   "execution_count": 28,
   "id": "df773267",
   "metadata": {},
   "outputs": [],
   "source": [
    "predictions_model1 = pd.read_csv(f\"../../../results/predictions_{hour}_model1.csv\")\n",
    "predictions_model2 = pd.read_csv(f\"../../../results/predictions_{hour}_model2.csv\")\n",
    "predictions_model3 = pd.read_csv(f\"../../../results/predictions_{hour}_model3.csv\")\n",
    "predictions_model4 = pd.read_csv(f\"../../../results/predictions_{hour}_model4.csv\")\n",
    "predictions_model5 = pd.read_csv(f\"../../../results/predictions_{hour}_model5.csv\")\n",
    "predictions_model6 = pd.read_csv(f\"../../../results/predictions_{hour}_model6.csv\")\n",
    "predictions_model7 = pd.read_csv(f\"../../../results/predictions_{hour}_model7.csv\")\n",
    "predictions_model8 = pd.read_csv(f\"../../../results/predictions_{hour}_model8.csv\")\n",
    "predictions_GB1 = pd.read_csv(f\"../../../results/predictions_{hour}_GB1.csv\")\n",
    "predictions_GB2 = pd.read_csv(f\"../../../results/predictions_{hour}_GB2.csv\")"
   ]
  },
  {
   "cell_type": "code",
   "execution_count": 29,
   "id": "950e0a24",
   "metadata": {},
   "outputs": [],
   "source": [
    "# import data\n",
    "data = pd.read_csv(f\"../../../data/final_{hour}.csv\")\n",
    "data[\"datetime\"] = pd.to_datetime(data[\"datetime\"])"
   ]
  },
  {
   "cell_type": "code",
   "execution_count": 30,
   "id": "853275f3",
   "metadata": {},
   "outputs": [],
   "source": [
    "# cleanup\n",
    "data.drop([\"loadFR\"], axis=1, inplace=True)\n",
    "data.dropna(inplace=True)\n",
    "data.drop_duplicates(subset=\"datetime\", keep=\"last\", inplace=True)"
   ]
  },
  {
   "cell_type": "code",
   "execution_count": 31,
   "id": "3d386246",
   "metadata": {},
   "outputs": [],
   "source": [
    "# train/test split\n",
    "data = data[data[\"datetime\"].dt.year < 2022]\n",
    "data_train = data[data[\"datetime\"].dt.year < 2021]\n",
    "data_test = data[(data[\"datetime\"].dt.year == 2021)]\n",
    "X_train = data_train.drop([\"datetime\", \"priceBE\"], axis=1)\n",
    "y_train = data_train[\"priceBE\"]\n",
    "X_test = data_test.drop([\"datetime\", \"priceBE\"], axis=1)\n",
    "y_test = data_test[\"priceBE\"]"
   ]
  },
  {
   "cell_type": "code",
   "execution_count": 32,
   "id": "45131da6",
   "metadata": {},
   "outputs": [],
   "source": [
    "def CRPS(predictions, observations):\n",
    "    results = pd.DataFrame([])\n",
    "    for column in predictions:\n",
    "        delta = np.array(predictions[column].values - observations.values)\n",
    "        tau = (predictions.columns.get_loc(column)+1)/100\n",
    "        results[predictions[column].name] = np.square(tau - np.heaviside(delta, 1))\n",
    "    return results.sum(axis=1).mean()"
   ]
  },
  {
   "cell_type": "markdown",
   "id": "c55744d8",
   "metadata": {},
   "source": [
    "# First setting: Q1+Q2"
   ]
  },
  {
   "cell_type": "markdown",
   "id": "20ba5c73",
   "metadata": {},
   "source": [
    "##  Gradient Boosting 1"
   ]
  },
  {
   "cell_type": "code",
   "execution_count": 33,
   "id": "1325a366",
   "metadata": {},
   "outputs": [
    {
     "data": {
      "text/plain": [
       "16.58442528735632"
      ]
     },
     "execution_count": 33,
     "metadata": {},
     "output_type": "execute_result"
    }
   ],
   "source": [
    "CRPS(predictions_GB1.iloc[0:174], y_test[0:174])"
   ]
  },
  {
   "cell_type": "code",
   "execution_count": 38,
   "id": "cfb3a8c2",
   "metadata": {},
   "outputs": [],
   "source": [
    "pinball_GB1_test1 = []\n",
    "for (index, colname) in enumerate(predictions_GB1.iloc[0:174]):\n",
    "    pinball_GB1_test1.append(mean_pinball_loss(y_test[0:174], \n",
    "                  predictions_GB1.iloc[0:174][colname], \n",
    "                  alpha=(index+1)/100))"
   ]
  },
  {
   "cell_type": "code",
   "execution_count": 13,
   "id": "d37a6fe0",
   "metadata": {},
   "outputs": [
    {
     "data": {
      "text/plain": [
       "0.5945171318070203"
      ]
     },
     "execution_count": 13,
     "metadata": {},
     "output_type": "execute_result"
    }
   ],
   "source": [
    "# 0.05\n",
    "pinball_GB1_test1[4]\n",
    "# 0.50\n",
    "pinball_GB1_test1[49]\n",
    "# 0.95\n",
    "pinball_GB1_test1[94]\n",
    "# avg\n",
    "#np.mean(pinball_GB1_test1)"
   ]
  },
  {
   "cell_type": "markdown",
   "id": "0baf566f",
   "metadata": {},
   "source": [
    "## Gradient Boosting 2"
   ]
  },
  {
   "cell_type": "code",
   "execution_count": 34,
   "id": "6792152c",
   "metadata": {},
   "outputs": [
    {
     "data": {
      "text/plain": [
       "19.344310344827587"
      ]
     },
     "execution_count": 34,
     "metadata": {},
     "output_type": "execute_result"
    }
   ],
   "source": [
    "CRPS(predictions_GB2.iloc[0:174], y_test[0:174])"
   ]
  },
  {
   "cell_type": "code",
   "execution_count": 39,
   "id": "97e415fb",
   "metadata": {},
   "outputs": [],
   "source": [
    "pinball_GB2_test1 = []\n",
    "for (index, colname) in enumerate(predictions_GB2.iloc[0:174]):\n",
    "    pinball_GB2_test1.append(mean_pinball_loss(y_test[0:174], \n",
    "                  predictions_GB2.iloc[0:174][colname], \n",
    "                  alpha=(index+1)/100))"
   ]
  },
  {
   "cell_type": "code",
   "execution_count": 19,
   "id": "82ec2246",
   "metadata": {},
   "outputs": [
    {
     "data": {
      "text/plain": [
       "0.7714681269540522"
      ]
     },
     "execution_count": 19,
     "metadata": {},
     "output_type": "execute_result"
    }
   ],
   "source": [
    "# 0.05\n",
    "pinball_GB2_test1[4]\n",
    "# 0.50\n",
    "pinball_GB2_test1[49]\n",
    "# 0.95\n",
    "pinball_GB2_test1[95]\n",
    "# avg\n",
    "#np.mean(pinball_GB2_test1)"
   ]
  },
  {
   "cell_type": "markdown",
   "id": "21f202cd",
   "metadata": {},
   "source": [
    "## LQR - Model 1"
   ]
  },
  {
   "cell_type": "code",
   "execution_count": 35,
   "id": "4cb7822f",
   "metadata": {},
   "outputs": [
    {
     "data": {
      "text/plain": [
       "23.39718390804598"
      ]
     },
     "execution_count": 35,
     "metadata": {},
     "output_type": "execute_result"
    }
   ],
   "source": [
    "CRPS(predictions_model1.iloc[0:174], y_test[0:174])"
   ]
  },
  {
   "cell_type": "code",
   "execution_count": 40,
   "id": "0de9b4c2",
   "metadata": {},
   "outputs": [],
   "source": [
    "pinball_model1_test1 = []\n",
    "for (index, colname) in enumerate(predictions_model1.iloc[0:174]):\n",
    "    pinball_model1_test1.append(mean_pinball_loss(y_test[0:174], \n",
    "                  predictions_model1.iloc[0:174][colname], \n",
    "                  alpha=(index+1)/100))"
   ]
  },
  {
   "cell_type": "code",
   "execution_count": 25,
   "id": "d4f57a80",
   "metadata": {},
   "outputs": [
    {
     "data": {
      "text/plain": [
       "2.1750685866394672"
      ]
     },
     "execution_count": 25,
     "metadata": {},
     "output_type": "execute_result"
    }
   ],
   "source": [
    "# 0.05\n",
    "pinball_model1_test1[4]\n",
    "# 0.50\n",
    "pinball_model1_test1[49]\n",
    "# 0.95\n",
    "pinball_model1_test1[94]\n",
    "# avg\n",
    "#np.mean(pinball_model1_test1)"
   ]
  },
  {
   "cell_type": "markdown",
   "id": "61802570",
   "metadata": {},
   "source": [
    "## LQR - Model 2"
   ]
  },
  {
   "cell_type": "code",
   "execution_count": 11,
   "id": "36424a08",
   "metadata": {},
   "outputs": [
    {
     "data": {
      "text/plain": [
       "16.289827586206897"
      ]
     },
     "execution_count": 11,
     "metadata": {},
     "output_type": "execute_result"
    }
   ],
   "source": [
    "CRPS(predictions_model2.iloc[0:174], y_test[0:174])"
   ]
  },
  {
   "cell_type": "code",
   "execution_count": 41,
   "id": "78e65f93",
   "metadata": {},
   "outputs": [],
   "source": [
    "pinball_model2_test1 = []\n",
    "for (index, colname) in enumerate(predictions_model2.iloc[0:174]):\n",
    "    pinball_model2_test1.append(mean_pinball_loss(y_test[0:174], \n",
    "                  predictions_model2.iloc[0:174][colname], \n",
    "                  alpha=(index+1)/100))"
   ]
  },
  {
   "cell_type": "markdown",
   "id": "a964a654",
   "metadata": {},
   "source": [
    "## LQR - Model 3"
   ]
  },
  {
   "cell_type": "code",
   "execution_count": 12,
   "id": "5276887e",
   "metadata": {},
   "outputs": [
    {
     "data": {
      "text/plain": [
       "16.470862068965527"
      ]
     },
     "execution_count": 12,
     "metadata": {},
     "output_type": "execute_result"
    }
   ],
   "source": [
    "CRPS(predictions_model3.iloc[0:174], y_test[0:174])"
   ]
  },
  {
   "cell_type": "code",
   "execution_count": 42,
   "id": "4470c196",
   "metadata": {},
   "outputs": [],
   "source": [
    "pinball_model3_test1 = []\n",
    "for (index, colname) in enumerate(predictions_model3.iloc[0:174]):\n",
    "    pinball_model3_test1.append(mean_pinball_loss(y_test[0:174], \n",
    "                  predictions_model3.iloc[0:174][colname], \n",
    "                  alpha=(index+1)/100))"
   ]
  },
  {
   "cell_type": "code",
   "execution_count": null,
   "id": "eb153761",
   "metadata": {},
   "outputs": [],
   "source": []
  },
  {
   "cell_type": "markdown",
   "id": "993c90f0",
   "metadata": {},
   "source": [
    "## LQR - Model 4"
   ]
  },
  {
   "cell_type": "code",
   "execution_count": 13,
   "id": "57d13af2",
   "metadata": {},
   "outputs": [
    {
     "data": {
      "text/plain": [
       "16.632126436781615"
      ]
     },
     "execution_count": 13,
     "metadata": {},
     "output_type": "execute_result"
    }
   ],
   "source": [
    "CRPS(predictions_model4.iloc[0:174], y_test[0:174])"
   ]
  },
  {
   "cell_type": "code",
   "execution_count": 43,
   "id": "d8402ef2",
   "metadata": {},
   "outputs": [],
   "source": [
    "pinball_model4_test1 = []\n",
    "for (index, colname) in enumerate(predictions_model4.iloc[0:174]):\n",
    "    pinball_model4_test1.append(mean_pinball_loss(y_test[0:174], \n",
    "                  predictions_model4.iloc[0:174][colname], \n",
    "                  alpha=(index+1)/100))"
   ]
  },
  {
   "cell_type": "markdown",
   "id": "1590edfa",
   "metadata": {},
   "source": [
    "## LQR - Model 5"
   ]
  },
  {
   "cell_type": "code",
   "execution_count": 14,
   "id": "8bf7843a",
   "metadata": {},
   "outputs": [
    {
     "data": {
      "text/plain": [
       "16.21235632183909"
      ]
     },
     "execution_count": 14,
     "metadata": {},
     "output_type": "execute_result"
    }
   ],
   "source": [
    "CRPS(predictions_model5.iloc[0:174], y_test[0:174])"
   ]
  },
  {
   "cell_type": "code",
   "execution_count": 44,
   "id": "402e67f7",
   "metadata": {},
   "outputs": [],
   "source": [
    "pinball_model5_test1 = []\n",
    "for (index, colname) in enumerate(predictions_model5.iloc[0:174]):\n",
    "    pinball_model5_test1.append(mean_pinball_loss(y_test[0:174], \n",
    "                  predictions_model5.iloc[0:174][colname], \n",
    "                  alpha=(index+1)/100))"
   ]
  },
  {
   "cell_type": "code",
   "execution_count": 31,
   "id": "f3eeff8b",
   "metadata": {},
   "outputs": [
    {
     "data": {
      "text/plain": [
       "2.2140312498370807"
      ]
     },
     "execution_count": 31,
     "metadata": {},
     "output_type": "execute_result"
    }
   ],
   "source": [
    "# 0.05\n",
    "pinball_model5_test1[4]\n",
    "# 0.50\n",
    "pinball_model5_test1[49]\n",
    "# 0.95\n",
    "pinball_model5_test1[94]\n",
    "# avg\n",
    "#np.mean(pinball_model5_test1)"
   ]
  },
  {
   "cell_type": "markdown",
   "id": "033fceb9",
   "metadata": {},
   "source": [
    "## LQR - Model 6"
   ]
  },
  {
   "cell_type": "code",
   "execution_count": 15,
   "id": "03bee0a5",
   "metadata": {},
   "outputs": [
    {
     "data": {
      "text/plain": [
       "19.18695402298851"
      ]
     },
     "execution_count": 15,
     "metadata": {},
     "output_type": "execute_result"
    }
   ],
   "source": [
    "CRPS(predictions_model6.iloc[0:174], y_test[0:174])"
   ]
  },
  {
   "cell_type": "code",
   "execution_count": 45,
   "id": "0dc9b9ac",
   "metadata": {},
   "outputs": [],
   "source": [
    "pinball_model6_test1 = []\n",
    "for (index, colname) in enumerate(predictions_model6.iloc[0:174]):\n",
    "    pinball_model6_test1.append(mean_pinball_loss(y_test[0:174], \n",
    "                  predictions_model6.iloc[0:174][colname], \n",
    "                  alpha=(index+1)/100))"
   ]
  },
  {
   "cell_type": "code",
   "execution_count": null,
   "id": "8fd430e6",
   "metadata": {},
   "outputs": [],
   "source": []
  },
  {
   "cell_type": "markdown",
   "id": "9525cf25",
   "metadata": {},
   "source": [
    "## LQR - Model 7"
   ]
  },
  {
   "cell_type": "code",
   "execution_count": 16,
   "id": "b58e7f93",
   "metadata": {},
   "outputs": [
    {
     "data": {
      "text/plain": [
       "18.300632183908043"
      ]
     },
     "execution_count": 16,
     "metadata": {},
     "output_type": "execute_result"
    }
   ],
   "source": [
    "CRPS(predictions_model7.iloc[0:174], y_test[0:174])"
   ]
  },
  {
   "cell_type": "code",
   "execution_count": 46,
   "id": "d52b3c9f",
   "metadata": {},
   "outputs": [],
   "source": [
    "pinball_model7_test1 = []\n",
    "for (index, colname) in enumerate(predictions_model7.iloc[0:174]):\n",
    "    pinball_model7_test1.append(mean_pinball_loss(y_test[0:174], \n",
    "                  predictions_model7.iloc[0:174][colname], \n",
    "                  alpha=(index+1)/100))"
   ]
  },
  {
   "cell_type": "code",
   "execution_count": null,
   "id": "7265a8ab",
   "metadata": {},
   "outputs": [],
   "source": []
  },
  {
   "cell_type": "markdown",
   "id": "a6e19e17",
   "metadata": {},
   "source": [
    "## LQR - Model 8"
   ]
  },
  {
   "cell_type": "code",
   "execution_count": 17,
   "id": "8f517a59",
   "metadata": {},
   "outputs": [
    {
     "data": {
      "text/plain": [
       "19.373850574712648"
      ]
     },
     "execution_count": 17,
     "metadata": {},
     "output_type": "execute_result"
    }
   ],
   "source": [
    "CRPS(predictions_model8.iloc[0:174], y_test[0:174])"
   ]
  },
  {
   "cell_type": "code",
   "execution_count": 47,
   "id": "2789d601",
   "metadata": {},
   "outputs": [],
   "source": [
    "pinball_model8_test1 = []\n",
    "for (index, colname) in enumerate(predictions_model8.iloc[0:174]):\n",
    "    pinball_model8_test1.append(mean_pinball_loss(y_test[0:174], \n",
    "                  predictions_model8.iloc[0:174][colname], \n",
    "                  alpha=(index+1)/100))"
   ]
  },
  {
   "cell_type": "code",
   "execution_count": 37,
   "id": "9054aeda",
   "metadata": {},
   "outputs": [
    {
     "data": {
      "text/plain": [
       "1.6783950712297377"
      ]
     },
     "execution_count": 37,
     "metadata": {},
     "output_type": "execute_result"
    }
   ],
   "source": [
    "# 0.05\n",
    "pinball_model8_test1[4]\n",
    "# 0.50\n",
    "pinball_model8_test1[49]\n",
    "# 0.95\n",
    "pinball_model8_test1[94]\n",
    "# avg\n",
    "#np.mean(pinball_model8_test1)"
   ]
  },
  {
   "cell_type": "code",
   "execution_count": 48,
   "id": "77e1abdf",
   "metadata": {},
   "outputs": [],
   "source": [
    "pinball1 = pd.DataFrame({\n",
    "    \"tau\": np.linspace(0.01,0.99, num=99),\n",
    "    \"model1\": pinball_model1_test1,\n",
    "    \"model2\": pinball_model2_test1,\n",
    "    \"model3\": pinball_model3_test1,\n",
    "    \"model4\": pinball_model4_test1,\n",
    "    \"model5\": pinball_model5_test1,\n",
    "    \"model6\": pinball_model6_test1,\n",
    "    \"model7\": pinball_model7_test1,\n",
    "    \"model8\": pinball_model8_test1,\n",
    "    \"GB1\": pinball_GB1_test1,\n",
    "    \"GB2\": pinball_GB2_test1,\n",
    "})"
   ]
  },
  {
   "cell_type": "code",
   "execution_count": 49,
   "id": "5f8f5c78",
   "metadata": {},
   "outputs": [],
   "source": [
    "pinball1.to_csv(f\"../../../results/{hour}_pinball1.csv\")"
   ]
  },
  {
   "cell_type": "markdown",
   "id": "b9120ac1",
   "metadata": {},
   "source": [
    "# Second Setting"
   ]
  },
  {
   "cell_type": "markdown",
   "id": "82beec17",
   "metadata": {},
   "source": [
    "##  Gradient Boosting 1"
   ]
  },
  {
   "cell_type": "code",
   "execution_count": 36,
   "id": "94411388",
   "metadata": {},
   "outputs": [
    {
     "data": {
      "text/plain": [
       "28.651174863387993"
      ]
     },
     "execution_count": 36,
     "metadata": {},
     "output_type": "execute_result"
    }
   ],
   "source": [
    "CRPS(predictions_GB1.iloc[175:], y_test[175:])"
   ]
  },
  {
   "cell_type": "code",
   "execution_count": 50,
   "id": "3fc8ce13",
   "metadata": {},
   "outputs": [],
   "source": [
    "pinball_GB1_test2 = []\n",
    "for (index, colname) in enumerate(predictions_GB1.iloc[175:]):\n",
    "    pinball_GB1_test2.append(mean_pinball_loss(y_test[175:], \n",
    "                  predictions_GB1.iloc[175:][colname], \n",
    "                  alpha=(index+1)/100))"
   ]
  },
  {
   "cell_type": "code",
   "execution_count": 43,
   "id": "b1419fb0",
   "metadata": {},
   "outputs": [
    {
     "data": {
      "text/plain": [
       "7.307108911657153"
      ]
     },
     "execution_count": 43,
     "metadata": {},
     "output_type": "execute_result"
    }
   ],
   "source": [
    "# 0.05\n",
    "pinball_GB1_test2[4]\n",
    "# 0.50\n",
    "pinball_GB1_test2[49]\n",
    "# 0.95\n",
    "pinball_GB1_test2[94]\n",
    "# avg\n",
    "#np.mean(pinball_GB1_test2)"
   ]
  },
  {
   "cell_type": "markdown",
   "id": "e9245330",
   "metadata": {},
   "source": [
    "## Gradient Boosting 2"
   ]
  },
  {
   "cell_type": "code",
   "execution_count": 37,
   "id": "f3bcd409",
   "metadata": {},
   "outputs": [
    {
     "data": {
      "text/plain": [
       "30.62177595628418"
      ]
     },
     "execution_count": 37,
     "metadata": {},
     "output_type": "execute_result"
    }
   ],
   "source": [
    "CRPS(predictions_GB2.iloc[175:], y_test[175:])"
   ]
  },
  {
   "cell_type": "code",
   "execution_count": 51,
   "id": "9998c817",
   "metadata": {},
   "outputs": [],
   "source": [
    "pinball_GB2_test2 = []\n",
    "for (index, colname) in enumerate(predictions_GB2.iloc[175:]):\n",
    "    pinball_GB2_test2.append(mean_pinball_loss(y_test[175:], \n",
    "                  predictions_GB2.iloc[175:][colname], \n",
    "                  alpha=(index+1)/100))"
   ]
  },
  {
   "cell_type": "code",
   "execution_count": 49,
   "id": "31af8514",
   "metadata": {},
   "outputs": [
    {
     "data": {
      "text/plain": [
       "5.511039973083843"
      ]
     },
     "execution_count": 49,
     "metadata": {},
     "output_type": "execute_result"
    }
   ],
   "source": [
    "# 0.05\n",
    "pinball_GB2_test2[4]\n",
    "# 0.50\n",
    "pinball_GB2_test2[49]\n",
    "# 0.95\n",
    "pinball_GB2_test2[94]\n",
    "# avg\n",
    "#np.mean(pinball_GB2_test2)"
   ]
  },
  {
   "cell_type": "markdown",
   "id": "06a9d3bb",
   "metadata": {},
   "source": [
    "## LQR - Model 1"
   ]
  },
  {
   "cell_type": "code",
   "execution_count": 38,
   "id": "02da08c7",
   "metadata": {},
   "outputs": [
    {
     "data": {
      "text/plain": [
       "31.528224043715863"
      ]
     },
     "execution_count": 38,
     "metadata": {},
     "output_type": "execute_result"
    }
   ],
   "source": [
    "CRPS(predictions_model1.iloc[175:], y_test[175:])"
   ]
  },
  {
   "cell_type": "code",
   "execution_count": 52,
   "id": "2a49d89f",
   "metadata": {},
   "outputs": [],
   "source": [
    "pinball_model1_test2 = []\n",
    "for (index, colname) in enumerate(predictions_model1.iloc[175:]):\n",
    "    pinball_model1_test2.append(mean_pinball_loss(y_test[175:], \n",
    "                  predictions_model1.iloc[175:][colname], \n",
    "                  alpha=(index+1)/100))"
   ]
  },
  {
   "cell_type": "code",
   "execution_count": 55,
   "id": "b7d4df40",
   "metadata": {},
   "outputs": [
    {
     "data": {
      "text/plain": [
       "5.836180225568939"
      ]
     },
     "execution_count": 55,
     "metadata": {},
     "output_type": "execute_result"
    }
   ],
   "source": [
    "# 0.05\n",
    "pinball_model1_test2[4]\n",
    "# 0.50\n",
    "pinball_model1_test2[49]\n",
    "# 0.95\n",
    "pinball_model1_test2[94]\n",
    "# avg\n",
    "#np.mean(pinball_model1_test2)"
   ]
  },
  {
   "cell_type": "markdown",
   "id": "8774981c",
   "metadata": {},
   "source": [
    "## LQR - Model 2"
   ]
  },
  {
   "cell_type": "code",
   "execution_count": 21,
   "id": "53e7e3d8",
   "metadata": {},
   "outputs": [
    {
     "data": {
      "text/plain": [
       "21.40286885245904"
      ]
     },
     "execution_count": 21,
     "metadata": {},
     "output_type": "execute_result"
    }
   ],
   "source": [
    "CRPS(predictions_model2.iloc[175:], y_test[175:])"
   ]
  },
  {
   "cell_type": "code",
   "execution_count": 53,
   "id": "f6894d7a",
   "metadata": {},
   "outputs": [],
   "source": [
    "pinball_model2_test2 = []\n",
    "for (index, colname) in enumerate(predictions_model2.iloc[175:]):\n",
    "    pinball_model2_test2.append(mean_pinball_loss(y_test[175:], \n",
    "                  predictions_model2.iloc[175:][colname], \n",
    "                  alpha=(index+1)/100))"
   ]
  },
  {
   "cell_type": "markdown",
   "id": "bb7269db",
   "metadata": {},
   "source": [
    "## LQR - Model 3"
   ]
  },
  {
   "cell_type": "code",
   "execution_count": 22,
   "id": "9755e98e",
   "metadata": {},
   "outputs": [
    {
     "data": {
      "text/plain": [
       "22.10254098360658"
      ]
     },
     "execution_count": 22,
     "metadata": {},
     "output_type": "execute_result"
    }
   ],
   "source": [
    "CRPS(predictions_model3.iloc[175:], y_test[175:])"
   ]
  },
  {
   "cell_type": "code",
   "execution_count": 54,
   "id": "8db2c70c",
   "metadata": {},
   "outputs": [],
   "source": [
    "pinball_model3_test2 = []\n",
    "for (index, colname) in enumerate(predictions_model3.iloc[175:]):\n",
    "    pinball_model3_test2.append(mean_pinball_loss(y_test[175:], \n",
    "                  predictions_model3.iloc[175:][colname], \n",
    "                  alpha=(index+1)/100))"
   ]
  },
  {
   "cell_type": "code",
   "execution_count": null,
   "id": "33843bfc",
   "metadata": {},
   "outputs": [],
   "source": []
  },
  {
   "cell_type": "markdown",
   "id": "5f3e15bb",
   "metadata": {},
   "source": [
    "## LQR - Model 4"
   ]
  },
  {
   "cell_type": "code",
   "execution_count": 23,
   "id": "9930e000",
   "metadata": {},
   "outputs": [
    {
     "data": {
      "text/plain": [
       "22.52297814207652"
      ]
     },
     "execution_count": 23,
     "metadata": {},
     "output_type": "execute_result"
    }
   ],
   "source": [
    "CRPS(predictions_model4.iloc[175:], y_test[175:])"
   ]
  },
  {
   "cell_type": "code",
   "execution_count": 55,
   "id": "caf2325e",
   "metadata": {},
   "outputs": [],
   "source": [
    "pinball_model4_test2 = []\n",
    "for (index, colname) in enumerate(predictions_model4.iloc[175:]):\n",
    "    pinball_model4_test2.append(mean_pinball_loss(y_test[175:], \n",
    "                  predictions_model4.iloc[175:][colname], \n",
    "                  alpha=(index+1)/100))"
   ]
  },
  {
   "cell_type": "code",
   "execution_count": null,
   "id": "27822f2a",
   "metadata": {},
   "outputs": [],
   "source": []
  },
  {
   "cell_type": "markdown",
   "id": "29d846ef",
   "metadata": {},
   "source": [
    "## LQR - Model 5"
   ]
  },
  {
   "cell_type": "code",
   "execution_count": 39,
   "id": "3dabf297",
   "metadata": {},
   "outputs": [
    {
     "data": {
      "text/plain": [
       "31.720792349726793"
      ]
     },
     "execution_count": 39,
     "metadata": {},
     "output_type": "execute_result"
    }
   ],
   "source": [
    "CRPS(predictions_model5.iloc[175:], y_test[175:])"
   ]
  },
  {
   "cell_type": "code",
   "execution_count": 56,
   "id": "36e9e3ec",
   "metadata": {},
   "outputs": [],
   "source": [
    "pinball_model5_test2 = []\n",
    "for (index, colname) in enumerate(predictions_model5.iloc[175:]):\n",
    "    pinball_model5_test2.append(mean_pinball_loss(y_test[175:], \n",
    "                  predictions_model5.iloc[175:][colname], \n",
    "                  alpha=(index+1)/100))"
   ]
  },
  {
   "cell_type": "code",
   "execution_count": 61,
   "id": "626bf225",
   "metadata": {
    "scrolled": true
   },
   "outputs": [
    {
     "data": {
      "text/plain": [
       "9.65403757891946"
      ]
     },
     "execution_count": 61,
     "metadata": {},
     "output_type": "execute_result"
    }
   ],
   "source": [
    "# 0.05\n",
    "pinball_model5_test2[4]\n",
    "# 0.50\n",
    "pinball_model5_test2[49]\n",
    "# 0.95\n",
    "pinball_model5_test2[94]\n",
    "# avg\n",
    "#np.mean(pinball_model5_test2)"
   ]
  },
  {
   "cell_type": "markdown",
   "id": "755bb9b0",
   "metadata": {},
   "source": [
    "## LQR - Model 6"
   ]
  },
  {
   "cell_type": "code",
   "execution_count": 25,
   "id": "8c54bcca",
   "metadata": {},
   "outputs": [
    {
     "data": {
      "text/plain": [
       "25.10297814207651"
      ]
     },
     "execution_count": 25,
     "metadata": {},
     "output_type": "execute_result"
    }
   ],
   "source": [
    "CRPS(predictions_model6.iloc[175:], y_test[175:])"
   ]
  },
  {
   "cell_type": "code",
   "execution_count": 57,
   "id": "9f247b13",
   "metadata": {},
   "outputs": [],
   "source": [
    "pinball_model6_test2 = []\n",
    "for (index, colname) in enumerate(predictions_model6.iloc[175:]):\n",
    "    pinball_model6_test2.append(mean_pinball_loss(y_test[175:], \n",
    "                  predictions_model6.iloc[175:][colname], \n",
    "                  alpha=(index+1)/100))"
   ]
  },
  {
   "cell_type": "code",
   "execution_count": null,
   "id": "26a3f964",
   "metadata": {},
   "outputs": [],
   "source": []
  },
  {
   "cell_type": "markdown",
   "id": "22261abd",
   "metadata": {},
   "source": [
    "## LQR - Model 7"
   ]
  },
  {
   "cell_type": "code",
   "execution_count": 40,
   "id": "b95ac4a0",
   "metadata": {},
   "outputs": [
    {
     "data": {
      "text/plain": [
       "30.930300546448105"
      ]
     },
     "execution_count": 40,
     "metadata": {},
     "output_type": "execute_result"
    }
   ],
   "source": [
    "CRPS(predictions_model7.iloc[175:], y_test[175:])"
   ]
  },
  {
   "cell_type": "code",
   "execution_count": 58,
   "id": "03d70e7f",
   "metadata": {},
   "outputs": [],
   "source": [
    "pinball_model7_test2 = []\n",
    "for (index, colname) in enumerate(predictions_model7.iloc[175:]):\n",
    "    pinball_model7_test2.append(mean_pinball_loss(y_test[175:], \n",
    "                  predictions_model7.iloc[175:][colname], \n",
    "                  alpha=(index+1)/100))"
   ]
  },
  {
   "cell_type": "code",
   "execution_count": null,
   "id": "e7315a4e",
   "metadata": {},
   "outputs": [],
   "source": []
  },
  {
   "cell_type": "markdown",
   "id": "673bb876",
   "metadata": {},
   "source": [
    "## LQR - Model 8"
   ]
  },
  {
   "cell_type": "code",
   "execution_count": 62,
   "id": "65fb756e",
   "metadata": {},
   "outputs": [
    {
     "data": {
      "text/plain": [
       "23.89827868852457"
      ]
     },
     "execution_count": 62,
     "metadata": {},
     "output_type": "execute_result"
    }
   ],
   "source": [
    "CRPS(predictions_model8.iloc[175:], y_test[175:])"
   ]
  },
  {
   "cell_type": "code",
   "execution_count": 59,
   "id": "77a722e3",
   "metadata": {},
   "outputs": [],
   "source": [
    "pinball_model8_test2 = []\n",
    "for (index, colname) in enumerate(predictions_model8.iloc[175:]):\n",
    "    pinball_model8_test2.append(mean_pinball_loss(y_test[175:], \n",
    "                  predictions_model8.iloc[175:][colname], \n",
    "                  alpha=(index+1)/100))"
   ]
  },
  {
   "cell_type": "code",
   "execution_count": 67,
   "id": "275eb67b",
   "metadata": {},
   "outputs": [
    {
     "data": {
      "text/plain": [
       "6.780107307028217"
      ]
     },
     "execution_count": 67,
     "metadata": {},
     "output_type": "execute_result"
    }
   ],
   "source": [
    "# 0.05\n",
    "pinball_model8_test2[4]\n",
    "# 0.50\n",
    "pinball_model8_test2[49]\n",
    "# 0.95\n",
    "pinball_model8_test2[94]\n",
    "# avg\n",
    "#np.mean(pinball_model8_test2)"
   ]
  },
  {
   "cell_type": "code",
   "execution_count": 60,
   "id": "d13f2c3f",
   "metadata": {},
   "outputs": [],
   "source": [
    "pinball2 = pd.DataFrame({\n",
    "    \"tau\": np.linspace(0.01,0.99, num=99),\n",
    "    \"model1\": pinball_model1_test2,\n",
    "    \"model2\": pinball_model2_test2,\n",
    "    \"model3\": pinball_model3_test2,\n",
    "    \"model4\": pinball_model4_test2,\n",
    "    \"model5\": pinball_model5_test2,\n",
    "    \"model6\": pinball_model6_test2,\n",
    "    \"model7\": pinball_model7_test2,\n",
    "    \"model8\": pinball_model8_test2,\n",
    "    \"GB1\": pinball_GB1_test2,\n",
    "    \"GB2\": pinball_GB2_test2,\n",
    "})"
   ]
  },
  {
   "cell_type": "code",
   "execution_count": 61,
   "id": "477ec128",
   "metadata": {},
   "outputs": [],
   "source": [
    "pinball2.to_csv(f\"../../../results/{hour}_pinball2.csv\")"
   ]
  },
  {
   "cell_type": "code",
   "execution_count": null,
   "id": "4286a06f",
   "metadata": {},
   "outputs": [],
   "source": []
  }
 ],
 "metadata": {
  "kernelspec": {
   "display_name": "Python 3 (ipykernel)",
   "language": "python",
   "name": "python3"
  },
  "language_info": {
   "codemirror_mode": {
    "name": "ipython",
    "version": 3
   },
   "file_extension": ".py",
   "mimetype": "text/x-python",
   "name": "python",
   "nbconvert_exporter": "python",
   "pygments_lexer": "ipython3",
   "version": "3.9.12"
  }
 },
 "nbformat": 4,
 "nbformat_minor": 5
}

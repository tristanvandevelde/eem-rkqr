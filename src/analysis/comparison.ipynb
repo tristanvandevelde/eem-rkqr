{
 "cells": [
  {
   "cell_type": "code",
   "execution_count": 78,
   "id": "00c46e34",
   "metadata": {},
   "outputs": [],
   "source": [
    "import pandas as pd\n",
    "import numpy as np\n",
    "#from CRPS import CRPS\n",
    "from sklearn.metrics import mean_pinball_loss"
   ]
  },
  {
   "cell_type": "code",
   "execution_count": 79,
   "id": "df773267",
   "metadata": {},
   "outputs": [],
   "source": [
    "predictions_model1 = pd.read_csv(\"../../results/predictions_model1.csv\")\n",
    "predictions_model2 = pd.read_csv(\"../../results/predictions_model2.csv\")\n",
    "predictions_model3 = pd.read_csv(\"../../results/predictions_model3.csv\")\n",
    "predictions_GB = pd.read_csv(\"../../results/predictions_GB.csv\")\n",
    "predictions_NN = pd.read_csv(\"../../results/predictions_NN.csv\")"
   ]
  },
  {
   "cell_type": "code",
   "execution_count": 80,
   "id": "950e0a24",
   "metadata": {},
   "outputs": [],
   "source": [
    "# import data\n",
    "hour = 17\n",
    "data = pd.read_csv(f\"../../data/final_{hour}.csv\")\n",
    "data[\"datetime\"] = pd.to_datetime(data[\"datetime\"])"
   ]
  },
  {
   "cell_type": "code",
   "execution_count": 81,
   "id": "853275f3",
   "metadata": {},
   "outputs": [],
   "source": [
    "# cleanup\n",
    "data.drop([\"loadFR\"], axis=1, inplace=True)\n",
    "data.dropna(inplace=True)\n",
    "data.drop_duplicates(subset=\"datetime\", keep=\"last\", inplace=True)\n"
   ]
  },
  {
   "cell_type": "code",
   "execution_count": 82,
   "id": "3d386246",
   "metadata": {},
   "outputs": [],
   "source": [
    "# train/test split\n",
    "data = data[data[\"datetime\"].dt.year < 2022]\n",
    "data_train = data[data[\"datetime\"].dt.year < 2021]\n",
    "data_test = data[(data[\"datetime\"].dt.year == 2021) \n",
    "                 & (data[\"datetime\"].dt.month < 7)]\n",
    "X_train = data_train.drop([\"datetime\", \"priceBE\"], axis=1)\n",
    "y_train = data_train[\"priceBE\"]\n",
    "X_test = data_test.drop([\"datetime\", \"priceBE\"], axis=1)\n",
    "y_test = data_test[\"priceBE\"]"
   ]
  },
  {
   "cell_type": "code",
   "execution_count": 83,
   "id": "45131da6",
   "metadata": {},
   "outputs": [],
   "source": [
    "def CRPS(predictions, observations):\n",
    "    results = pd.DataFrame([])\n",
    "    for column in predictions:\n",
    "        delta = np.array(predictions[column].values - observations.values)\n",
    "        tau = (predictions.columns.get_loc(column)+1)/100\n",
    "        results[predictions[column].name] = np.square(tau - np.heaviside(delta, 1))\n",
    "    return results.sum(axis=1).mean()"
   ]
  },
  {
   "cell_type": "markdown",
   "id": "20ba5c73",
   "metadata": {},
   "source": [
    "# Gradient Boosting"
   ]
  },
  {
   "cell_type": "code",
   "execution_count": 84,
   "id": "13fda18b",
   "metadata": {},
   "outputs": [
    {
     "data": {
      "text/plain": [
       "13.207413793103454"
      ]
     },
     "execution_count": 84,
     "metadata": {},
     "output_type": "execute_result"
    }
   ],
   "source": [
    "CRPS(predictions_GB, y_test)"
   ]
  },
  {
   "cell_type": "code",
   "execution_count": 85,
   "id": "49acf66d",
   "metadata": {},
   "outputs": [
    {
     "data": {
      "text/plain": [
       "1.5389535296936268"
      ]
     },
     "execution_count": 85,
     "metadata": {},
     "output_type": "execute_result"
    }
   ],
   "source": [
    "mean_pinball_loss(y_test, predictions_GB[\"0.05\"], alpha=0.05)"
   ]
  },
  {
   "cell_type": "code",
   "execution_count": 86,
   "id": "17b3ae1a",
   "metadata": {},
   "outputs": [
    {
     "data": {
      "text/plain": [
       "2.61019064179013"
      ]
     },
     "execution_count": 86,
     "metadata": {},
     "output_type": "execute_result"
    }
   ],
   "source": [
    "mean_pinball_loss(y_test, predictions_GB[\"0.50\"], alpha=0.50)"
   ]
  },
  {
   "cell_type": "code",
   "execution_count": 88,
   "id": "6d2be857",
   "metadata": {},
   "outputs": [
    {
     "data": {
      "text/plain": [
       "0.5945171318070203"
      ]
     },
     "execution_count": 88,
     "metadata": {},
     "output_type": "execute_result"
    }
   ],
   "source": [
    "mean_pinball_loss(y_test, predictions_GB[\"0.95\"], alpha=0.95)"
   ]
  },
  {
   "cell_type": "markdown",
   "id": "b9120ac1",
   "metadata": {},
   "source": [
    "# Neural networks"
   ]
  },
  {
   "cell_type": "code",
   "execution_count": 59,
   "id": "9a6ef56c",
   "metadata": {},
   "outputs": [
    {
     "data": {
      "text/plain": [
       "23.924770114942532"
      ]
     },
     "execution_count": 59,
     "metadata": {},
     "output_type": "execute_result"
    }
   ],
   "source": [
    "CRPS(predictions_NN, y_test)"
   ]
  },
  {
   "cell_type": "code",
   "execution_count": 89,
   "id": "5b42987b",
   "metadata": {},
   "outputs": [
    {
     "data": {
      "text/plain": [
       "204.7215766862069"
      ]
     },
     "execution_count": 89,
     "metadata": {},
     "output_type": "execute_result"
    }
   ],
   "source": [
    "mean_pinball_loss(y_test, predictions_NN[\"0.05\"], alpha=0.05)"
   ]
  },
  {
   "cell_type": "code",
   "execution_count": 90,
   "id": "d7f98822",
   "metadata": {},
   "outputs": [
    {
     "data": {
      "text/plain": [
       "477.60789712643685"
      ]
     },
     "execution_count": 90,
     "metadata": {},
     "output_type": "execute_result"
    }
   ],
   "source": [
    "mean_pinball_loss(y_test, predictions_NN[\"0.50\"], alpha=0.50)"
   ]
  },
  {
   "cell_type": "code",
   "execution_count": 62,
   "id": "a03269a5",
   "metadata": {},
   "outputs": [
    {
     "data": {
      "text/plain": [
       "163.5103071746265"
      ]
     },
     "execution_count": 62,
     "metadata": {},
     "output_type": "execute_result"
    }
   ],
   "source": [
    "mean_pinball_loss(y_test, predictions_NN[\"0.95\"], alpha=0.95)"
   ]
  },
  {
   "cell_type": "markdown",
   "id": "397a7437",
   "metadata": {},
   "source": [
    "# Quantile regression"
   ]
  },
  {
   "cell_type": "markdown",
   "id": "901a3910",
   "metadata": {},
   "source": [
    "## Model 1"
   ]
  },
  {
   "cell_type": "code",
   "execution_count": 91,
   "id": "2415bbab",
   "metadata": {},
   "outputs": [
    {
     "data": {
      "text/plain": [
       "16.21235632183909"
      ]
     },
     "execution_count": 91,
     "metadata": {},
     "output_type": "execute_result"
    }
   ],
   "source": [
    "CRPS(predictions_model1, y_test)"
   ]
  },
  {
   "cell_type": "code",
   "execution_count": 92,
   "id": "6f55ad77",
   "metadata": {},
   "outputs": [
    {
     "data": {
      "text/plain": [
       "1.2641754079009961"
      ]
     },
     "execution_count": 92,
     "metadata": {},
     "output_type": "execute_result"
    }
   ],
   "source": [
    "mean_pinball_loss(y_test, predictions_model1[\"tau= 0.05\"], alpha=0.05)"
   ]
  },
  {
   "cell_type": "code",
   "execution_count": 93,
   "id": "75fc147c",
   "metadata": {},
   "outputs": [
    {
     "data": {
      "text/plain": [
       "5.263316949680461"
      ]
     },
     "execution_count": 93,
     "metadata": {},
     "output_type": "execute_result"
    }
   ],
   "source": [
    "mean_pinball_loss(y_test, predictions_model1[\"tau= 0.50\"], alpha=0.50)"
   ]
  },
  {
   "cell_type": "code",
   "execution_count": 94,
   "id": "2a8e9ee2",
   "metadata": {},
   "outputs": [
    {
     "data": {
      "text/plain": [
       "2.2140312498370807"
      ]
     },
     "execution_count": 94,
     "metadata": {},
     "output_type": "execute_result"
    }
   ],
   "source": [
    "mean_pinball_loss(y_test, predictions_model1[\"tau= 0.95\"], alpha=0.95)"
   ]
  },
  {
   "cell_type": "markdown",
   "id": "44ded966",
   "metadata": {},
   "source": [
    "## Model 2"
   ]
  },
  {
   "cell_type": "code",
   "execution_count": 95,
   "id": "8384e1f4",
   "metadata": {},
   "outputs": [
    {
     "data": {
      "text/plain": [
       "18.300632183908043"
      ]
     },
     "execution_count": 95,
     "metadata": {},
     "output_type": "execute_result"
    }
   ],
   "source": [
    "CRPS(predictions_model2, y_test)"
   ]
  },
  {
   "cell_type": "code",
   "execution_count": 96,
   "id": "abe957c3",
   "metadata": {},
   "outputs": [
    {
     "data": {
      "text/plain": [
       "1.4765010862684647"
      ]
     },
     "execution_count": 96,
     "metadata": {},
     "output_type": "execute_result"
    }
   ],
   "source": [
    "mean_pinball_loss(y_test, predictions_model2[\"tau= 0.05\"], alpha=0.05)"
   ]
  },
  {
   "cell_type": "code",
   "execution_count": 97,
   "id": "c4bab639",
   "metadata": {},
   "outputs": [
    {
     "data": {
      "text/plain": [
       "6.576343937116396"
      ]
     },
     "execution_count": 97,
     "metadata": {},
     "output_type": "execute_result"
    }
   ],
   "source": [
    "mean_pinball_loss(y_test, predictions_model2[\"tau= 0.50\"], alpha=0.50)"
   ]
  },
  {
   "cell_type": "code",
   "execution_count": 98,
   "id": "f80993bd",
   "metadata": {},
   "outputs": [
    {
     "data": {
      "text/plain": [
       "1.6783950712297495"
      ]
     },
     "execution_count": 98,
     "metadata": {},
     "output_type": "execute_result"
    }
   ],
   "source": [
    "mean_pinball_loss(y_test, predictions_model3[\"tau= 0.95\"], alpha=0.95)"
   ]
  },
  {
   "cell_type": "markdown",
   "id": "f5bebc09",
   "metadata": {},
   "source": [
    "## Model 3"
   ]
  },
  {
   "cell_type": "code",
   "execution_count": 99,
   "id": "7ef63a6a",
   "metadata": {},
   "outputs": [
    {
     "data": {
      "text/plain": [
       "19.373850574712648"
      ]
     },
     "execution_count": 99,
     "metadata": {},
     "output_type": "execute_result"
    }
   ],
   "source": [
    "CRPS(predictions_model3, y_test)"
   ]
  },
  {
   "cell_type": "code",
   "execution_count": 100,
   "id": "7c776f48",
   "metadata": {},
   "outputs": [
    {
     "data": {
      "text/plain": [
       "1.2641754079009961"
      ]
     },
     "execution_count": 100,
     "metadata": {},
     "output_type": "execute_result"
    }
   ],
   "source": [
    "mean_pinball_loss(y_test, predictions_model1[\"tau= 0.05\"], alpha=0.05)"
   ]
  },
  {
   "cell_type": "code",
   "execution_count": 101,
   "id": "26ea9fce",
   "metadata": {},
   "outputs": [
    {
     "data": {
      "text/plain": [
       "3.8663899347486703"
      ]
     },
     "execution_count": 101,
     "metadata": {},
     "output_type": "execute_result"
    }
   ],
   "source": [
    "mean_pinball_loss(y_test, predictions_model3[\"tau= 0.50\"], alpha=0.50)"
   ]
  },
  {
   "cell_type": "code",
   "execution_count": 102,
   "id": "75b7dfc2",
   "metadata": {},
   "outputs": [
    {
     "data": {
      "text/plain": [
       "1.6783950712297495"
      ]
     },
     "execution_count": 102,
     "metadata": {},
     "output_type": "execute_result"
    }
   ],
   "source": [
    "mean_pinball_loss(y_test, predictions_model3[\"tau= 0.95\"], alpha=0.95)"
   ]
  },
  {
   "cell_type": "code",
   "execution_count": null,
   "id": "5ada1989",
   "metadata": {},
   "outputs": [],
   "source": []
  }
 ],
 "metadata": {
  "kernelspec": {
   "display_name": "Python 3 (ipykernel)",
   "language": "python",
   "name": "python3"
  },
  "language_info": {
   "codemirror_mode": {
    "name": "ipython",
    "version": 3
   },
   "file_extension": ".py",
   "mimetype": "text/x-python",
   "name": "python",
   "nbconvert_exporter": "python",
   "pygments_lexer": "ipython3",
   "version": "3.9.12"
  }
 },
 "nbformat": 4,
 "nbformat_minor": 5
}

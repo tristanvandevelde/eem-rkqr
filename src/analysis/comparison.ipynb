{
 "cells": [
  {
   "cell_type": "code",
   "execution_count": 1,
   "id": "00c46e34",
   "metadata": {},
   "outputs": [],
   "source": [
    "import pandas as pd\n",
    "import numpy as np\n",
    "#from CRPS import CRPS\n",
    "from sklearn.metrics import mean_pinball_loss"
   ]
  },
  {
   "cell_type": "code",
   "execution_count": 2,
   "id": "df773267",
   "metadata": {},
   "outputs": [],
   "source": [
    "predictions_model1 = pd.read_csv(\"../../results/predictions_model1.csv\")\n",
    "predictions_model2 = pd.read_csv(\"../../results/predictions_model2.csv\")\n",
    "predictions_model3 = pd.read_csv(\"../../results/predictions_model3.csv\")\n",
    "predictions_GB1 = pd.read_csv(\"../../results/predictions_GB1.csv\")\n",
    "predictions_GB2 = pd.read_csv(\"../../results/predictions_GB2.csv\")"
   ]
  },
  {
   "cell_type": "code",
   "execution_count": 3,
   "id": "950e0a24",
   "metadata": {},
   "outputs": [],
   "source": [
    "# import data\n",
    "hour = 17\n",
    "data = pd.read_csv(f\"../../data/final_{hour}.csv\")\n",
    "data[\"datetime\"] = pd.to_datetime(data[\"datetime\"])"
   ]
  },
  {
   "cell_type": "code",
   "execution_count": 4,
   "id": "853275f3",
   "metadata": {},
   "outputs": [],
   "source": [
    "# cleanup\n",
    "data.drop([\"loadFR\"], axis=1, inplace=True)\n",
    "data.dropna(inplace=True)\n",
    "data.drop_duplicates(subset=\"datetime\", keep=\"last\", inplace=True)"
   ]
  },
  {
   "cell_type": "code",
   "execution_count": 5,
   "id": "3d386246",
   "metadata": {},
   "outputs": [],
   "source": [
    "# train/test split\n",
    "data = data[data[\"datetime\"].dt.year < 2022]\n",
    "data_train = data[data[\"datetime\"].dt.year < 2021]\n",
    "data_test = data[(data[\"datetime\"].dt.year == 2021)]\n",
    "X_train = data_train.drop([\"datetime\", \"priceBE\"], axis=1)\n",
    "y_train = data_train[\"priceBE\"]\n",
    "X_test = data_test.drop([\"datetime\", \"priceBE\"], axis=1)\n",
    "y_test = data_test[\"priceBE\"]"
   ]
  },
  {
   "cell_type": "code",
   "execution_count": 6,
   "id": "45131da6",
   "metadata": {},
   "outputs": [],
   "source": [
    "def CRPS(predictions, observations):\n",
    "    results = pd.DataFrame([])\n",
    "    for column in predictions:\n",
    "        delta = np.array(predictions[column].values - observations.values)\n",
    "        tau = (predictions.columns.get_loc(column)+1)/100\n",
    "        results[predictions[column].name] = np.square(tau - np.heaviside(delta, 1))\n",
    "    return results.sum(axis=1).mean()"
   ]
  },
  {
   "cell_type": "code",
   "execution_count": 19,
   "id": "7a3d106d",
   "metadata": {},
   "outputs": [
    {
     "data": {
      "text/html": [
       "<div>\n",
       "<style scoped>\n",
       "    .dataframe tbody tr th:only-of-type {\n",
       "        vertical-align: middle;\n",
       "    }\n",
       "\n",
       "    .dataframe tbody tr th {\n",
       "        vertical-align: top;\n",
       "    }\n",
       "\n",
       "    .dataframe thead th {\n",
       "        text-align: right;\n",
       "    }\n",
       "</style>\n",
       "<table border=\"1\" class=\"dataframe\">\n",
       "  <thead>\n",
       "    <tr style=\"text-align: right;\">\n",
       "      <th></th>\n",
       "      <th>tau= 0.01</th>\n",
       "      <th>tau= 0.02</th>\n",
       "      <th>tau= 0.03</th>\n",
       "      <th>tau= 0.04</th>\n",
       "      <th>tau= 0.05</th>\n",
       "      <th>tau= 0.06</th>\n",
       "      <th>tau= 0.07</th>\n",
       "      <th>tau= 0.08</th>\n",
       "      <th>tau= 0.09</th>\n",
       "      <th>tau= 0.10</th>\n",
       "      <th>...</th>\n",
       "      <th>tau= 0.90</th>\n",
       "      <th>tau= 0.91</th>\n",
       "      <th>tau= 0.92</th>\n",
       "      <th>tau= 0.93</th>\n",
       "      <th>tau= 0.94</th>\n",
       "      <th>tau= 0.95</th>\n",
       "      <th>tau= 0.96</th>\n",
       "      <th>tau= 0.97</th>\n",
       "      <th>tau= 0.98</th>\n",
       "      <th>tau= 0.99</th>\n",
       "    </tr>\n",
       "  </thead>\n",
       "  <tbody>\n",
       "    <tr>\n",
       "      <th>0</th>\n",
       "      <td>23.075702</td>\n",
       "      <td>28.581113</td>\n",
       "      <td>30.751707</td>\n",
       "      <td>30.957551</td>\n",
       "      <td>31.597426</td>\n",
       "      <td>32.013928</td>\n",
       "      <td>33.193387</td>\n",
       "      <td>34.077713</td>\n",
       "      <td>35.794869</td>\n",
       "      <td>36.422584</td>\n",
       "      <td>...</td>\n",
       "      <td>67.062367</td>\n",
       "      <td>68.556864</td>\n",
       "      <td>69.044940</td>\n",
       "      <td>69.251869</td>\n",
       "      <td>71.109009</td>\n",
       "      <td>76.364204</td>\n",
       "      <td>77.802353</td>\n",
       "      <td>82.040597</td>\n",
       "      <td>85.992581</td>\n",
       "      <td>135.985530</td>\n",
       "    </tr>\n",
       "    <tr>\n",
       "      <th>1</th>\n",
       "      <td>26.146313</td>\n",
       "      <td>31.751622</td>\n",
       "      <td>35.332234</td>\n",
       "      <td>37.558750</td>\n",
       "      <td>37.960081</td>\n",
       "      <td>38.827664</td>\n",
       "      <td>39.636272</td>\n",
       "      <td>40.273952</td>\n",
       "      <td>41.651207</td>\n",
       "      <td>42.405983</td>\n",
       "      <td>...</td>\n",
       "      <td>68.267580</td>\n",
       "      <td>68.143125</td>\n",
       "      <td>69.255114</td>\n",
       "      <td>71.345904</td>\n",
       "      <td>71.895948</td>\n",
       "      <td>78.159868</td>\n",
       "      <td>78.725953</td>\n",
       "      <td>85.689150</td>\n",
       "      <td>96.431235</td>\n",
       "      <td>152.248902</td>\n",
       "    </tr>\n",
       "    <tr>\n",
       "      <th>2</th>\n",
       "      <td>10.613494</td>\n",
       "      <td>24.902055</td>\n",
       "      <td>29.027069</td>\n",
       "      <td>30.331820</td>\n",
       "      <td>30.277235</td>\n",
       "      <td>31.376800</td>\n",
       "      <td>32.503188</td>\n",
       "      <td>32.881265</td>\n",
       "      <td>34.098839</td>\n",
       "      <td>35.203473</td>\n",
       "      <td>...</td>\n",
       "      <td>66.186159</td>\n",
       "      <td>66.400664</td>\n",
       "      <td>67.839584</td>\n",
       "      <td>71.356353</td>\n",
       "      <td>71.423614</td>\n",
       "      <td>74.145509</td>\n",
       "      <td>74.734795</td>\n",
       "      <td>80.793853</td>\n",
       "      <td>97.715924</td>\n",
       "      <td>145.631711</td>\n",
       "    </tr>\n",
       "    <tr>\n",
       "      <th>3</th>\n",
       "      <td>24.515624</td>\n",
       "      <td>36.132196</td>\n",
       "      <td>38.963373</td>\n",
       "      <td>39.124472</td>\n",
       "      <td>40.296619</td>\n",
       "      <td>41.367734</td>\n",
       "      <td>42.958551</td>\n",
       "      <td>43.173757</td>\n",
       "      <td>44.016935</td>\n",
       "      <td>45.308066</td>\n",
       "      <td>...</td>\n",
       "      <td>74.012528</td>\n",
       "      <td>73.701185</td>\n",
       "      <td>74.689867</td>\n",
       "      <td>76.990115</td>\n",
       "      <td>78.653697</td>\n",
       "      <td>83.350450</td>\n",
       "      <td>85.337845</td>\n",
       "      <td>91.069190</td>\n",
       "      <td>96.335752</td>\n",
       "      <td>135.294456</td>\n",
       "    </tr>\n",
       "    <tr>\n",
       "      <th>4</th>\n",
       "      <td>32.543605</td>\n",
       "      <td>43.099942</td>\n",
       "      <td>46.777572</td>\n",
       "      <td>47.405405</td>\n",
       "      <td>48.122471</td>\n",
       "      <td>48.375021</td>\n",
       "      <td>49.848134</td>\n",
       "      <td>50.328047</td>\n",
       "      <td>51.994145</td>\n",
       "      <td>53.288324</td>\n",
       "      <td>...</td>\n",
       "      <td>95.789329</td>\n",
       "      <td>96.008523</td>\n",
       "      <td>97.965432</td>\n",
       "      <td>99.923849</td>\n",
       "      <td>102.536319</td>\n",
       "      <td>108.256785</td>\n",
       "      <td>108.455675</td>\n",
       "      <td>118.229689</td>\n",
       "      <td>127.486370</td>\n",
       "      <td>171.736522</td>\n",
       "    </tr>\n",
       "    <tr>\n",
       "      <th>...</th>\n",
       "      <td>...</td>\n",
       "      <td>...</td>\n",
       "      <td>...</td>\n",
       "      <td>...</td>\n",
       "      <td>...</td>\n",
       "      <td>...</td>\n",
       "      <td>...</td>\n",
       "      <td>...</td>\n",
       "      <td>...</td>\n",
       "      <td>...</td>\n",
       "      <td>...</td>\n",
       "      <td>...</td>\n",
       "      <td>...</td>\n",
       "      <td>...</td>\n",
       "      <td>...</td>\n",
       "      <td>...</td>\n",
       "      <td>...</td>\n",
       "      <td>...</td>\n",
       "      <td>...</td>\n",
       "      <td>...</td>\n",
       "      <td>...</td>\n",
       "    </tr>\n",
       "    <tr>\n",
       "      <th>353</th>\n",
       "      <td>96.600651</td>\n",
       "      <td>136.139638</td>\n",
       "      <td>142.490132</td>\n",
       "      <td>143.059855</td>\n",
       "      <td>146.335154</td>\n",
       "      <td>144.272832</td>\n",
       "      <td>149.565768</td>\n",
       "      <td>150.293764</td>\n",
       "      <td>157.006003</td>\n",
       "      <td>162.237078</td>\n",
       "      <td>...</td>\n",
       "      <td>275.246064</td>\n",
       "      <td>283.821334</td>\n",
       "      <td>280.642842</td>\n",
       "      <td>278.477819</td>\n",
       "      <td>289.458469</td>\n",
       "      <td>291.002691</td>\n",
       "      <td>302.194001</td>\n",
       "      <td>316.209714</td>\n",
       "      <td>364.321662</td>\n",
       "      <td>592.740369</td>\n",
       "    </tr>\n",
       "    <tr>\n",
       "      <th>354</th>\n",
       "      <td>81.281000</td>\n",
       "      <td>110.839949</td>\n",
       "      <td>118.265449</td>\n",
       "      <td>117.549283</td>\n",
       "      <td>119.608079</td>\n",
       "      <td>116.739332</td>\n",
       "      <td>122.987536</td>\n",
       "      <td>123.048643</td>\n",
       "      <td>126.763348</td>\n",
       "      <td>130.877779</td>\n",
       "      <td>...</td>\n",
       "      <td>178.059249</td>\n",
       "      <td>182.152100</td>\n",
       "      <td>176.564386</td>\n",
       "      <td>169.669085</td>\n",
       "      <td>181.188858</td>\n",
       "      <td>179.457694</td>\n",
       "      <td>187.173774</td>\n",
       "      <td>190.316539</td>\n",
       "      <td>203.265943</td>\n",
       "      <td>323.143043</td>\n",
       "    </tr>\n",
       "    <tr>\n",
       "      <th>355</th>\n",
       "      <td>78.700786</td>\n",
       "      <td>97.190693</td>\n",
       "      <td>108.880090</td>\n",
       "      <td>107.950350</td>\n",
       "      <td>108.011977</td>\n",
       "      <td>106.110956</td>\n",
       "      <td>110.012760</td>\n",
       "      <td>109.636602</td>\n",
       "      <td>110.843516</td>\n",
       "      <td>115.270711</td>\n",
       "      <td>...</td>\n",
       "      <td>112.099858</td>\n",
       "      <td>111.809541</td>\n",
       "      <td>108.416378</td>\n",
       "      <td>106.270372</td>\n",
       "      <td>117.975014</td>\n",
       "      <td>120.135963</td>\n",
       "      <td>129.418834</td>\n",
       "      <td>135.961543</td>\n",
       "      <td>144.681629</td>\n",
       "      <td>188.547165</td>\n",
       "    </tr>\n",
       "    <tr>\n",
       "      <th>356</th>\n",
       "      <td>80.858366</td>\n",
       "      <td>105.294996</td>\n",
       "      <td>112.575802</td>\n",
       "      <td>113.393661</td>\n",
       "      <td>115.069960</td>\n",
       "      <td>118.732790</td>\n",
       "      <td>119.936280</td>\n",
       "      <td>120.017358</td>\n",
       "      <td>124.629843</td>\n",
       "      <td>129.585368</td>\n",
       "      <td>...</td>\n",
       "      <td>167.950064</td>\n",
       "      <td>166.194044</td>\n",
       "      <td>170.572237</td>\n",
       "      <td>169.018702</td>\n",
       "      <td>177.080903</td>\n",
       "      <td>186.436446</td>\n",
       "      <td>191.888044</td>\n",
       "      <td>204.449042</td>\n",
       "      <td>264.832459</td>\n",
       "      <td>373.871582</td>\n",
       "    </tr>\n",
       "    <tr>\n",
       "      <th>357</th>\n",
       "      <td>38.932151</td>\n",
       "      <td>54.135999</td>\n",
       "      <td>79.677764</td>\n",
       "      <td>88.270035</td>\n",
       "      <td>85.353545</td>\n",
       "      <td>88.060285</td>\n",
       "      <td>86.522076</td>\n",
       "      <td>85.417151</td>\n",
       "      <td>82.238219</td>\n",
       "      <td>89.243266</td>\n",
       "      <td>...</td>\n",
       "      <td>33.616676</td>\n",
       "      <td>17.869930</td>\n",
       "      <td>23.241357</td>\n",
       "      <td>51.339555</td>\n",
       "      <td>66.071982</td>\n",
       "      <td>79.907504</td>\n",
       "      <td>74.335484</td>\n",
       "      <td>59.974429</td>\n",
       "      <td>160.252600</td>\n",
       "      <td>457.509941</td>\n",
       "    </tr>\n",
       "  </tbody>\n",
       "</table>\n",
       "<p>358 rows × 99 columns</p>\n",
       "</div>"
      ],
      "text/plain": [
       "     tau= 0.01   tau= 0.02   tau= 0.03   tau= 0.04   tau= 0.05   tau= 0.06  \\\n",
       "0    23.075702   28.581113   30.751707   30.957551   31.597426   32.013928   \n",
       "1    26.146313   31.751622   35.332234   37.558750   37.960081   38.827664   \n",
       "2    10.613494   24.902055   29.027069   30.331820   30.277235   31.376800   \n",
       "3    24.515624   36.132196   38.963373   39.124472   40.296619   41.367734   \n",
       "4    32.543605   43.099942   46.777572   47.405405   48.122471   48.375021   \n",
       "..         ...         ...         ...         ...         ...         ...   \n",
       "353  96.600651  136.139638  142.490132  143.059855  146.335154  144.272832   \n",
       "354  81.281000  110.839949  118.265449  117.549283  119.608079  116.739332   \n",
       "355  78.700786   97.190693  108.880090  107.950350  108.011977  106.110956   \n",
       "356  80.858366  105.294996  112.575802  113.393661  115.069960  118.732790   \n",
       "357  38.932151   54.135999   79.677764   88.270035   85.353545   88.060285   \n",
       "\n",
       "      tau= 0.07   tau= 0.08   tau= 0.09   tau= 0.10  ...   tau= 0.90  \\\n",
       "0     33.193387   34.077713   35.794869   36.422584  ...   67.062367   \n",
       "1     39.636272   40.273952   41.651207   42.405983  ...   68.267580   \n",
       "2     32.503188   32.881265   34.098839   35.203473  ...   66.186159   \n",
       "3     42.958551   43.173757   44.016935   45.308066  ...   74.012528   \n",
       "4     49.848134   50.328047   51.994145   53.288324  ...   95.789329   \n",
       "..          ...         ...         ...         ...  ...         ...   \n",
       "353  149.565768  150.293764  157.006003  162.237078  ...  275.246064   \n",
       "354  122.987536  123.048643  126.763348  130.877779  ...  178.059249   \n",
       "355  110.012760  109.636602  110.843516  115.270711  ...  112.099858   \n",
       "356  119.936280  120.017358  124.629843  129.585368  ...  167.950064   \n",
       "357   86.522076   85.417151   82.238219   89.243266  ...   33.616676   \n",
       "\n",
       "      tau= 0.91   tau= 0.92   tau= 0.93   tau= 0.94   tau= 0.95   tau= 0.96  \\\n",
       "0     68.556864   69.044940   69.251869   71.109009   76.364204   77.802353   \n",
       "1     68.143125   69.255114   71.345904   71.895948   78.159868   78.725953   \n",
       "2     66.400664   67.839584   71.356353   71.423614   74.145509   74.734795   \n",
       "3     73.701185   74.689867   76.990115   78.653697   83.350450   85.337845   \n",
       "4     96.008523   97.965432   99.923849  102.536319  108.256785  108.455675   \n",
       "..          ...         ...         ...         ...         ...         ...   \n",
       "353  283.821334  280.642842  278.477819  289.458469  291.002691  302.194001   \n",
       "354  182.152100  176.564386  169.669085  181.188858  179.457694  187.173774   \n",
       "355  111.809541  108.416378  106.270372  117.975014  120.135963  129.418834   \n",
       "356  166.194044  170.572237  169.018702  177.080903  186.436446  191.888044   \n",
       "357   17.869930   23.241357   51.339555   66.071982   79.907504   74.335484   \n",
       "\n",
       "      tau= 0.97   tau= 0.98   tau= 0.99  \n",
       "0     82.040597   85.992581  135.985530  \n",
       "1     85.689150   96.431235  152.248902  \n",
       "2     80.793853   97.715924  145.631711  \n",
       "3     91.069190   96.335752  135.294456  \n",
       "4    118.229689  127.486370  171.736522  \n",
       "..          ...         ...         ...  \n",
       "353  316.209714  364.321662  592.740369  \n",
       "354  190.316539  203.265943  323.143043  \n",
       "355  135.961543  144.681629  188.547165  \n",
       "356  204.449042  264.832459  373.871582  \n",
       "357   59.974429  160.252600  457.509941  \n",
       "\n",
       "[358 rows x 99 columns]"
      ]
     },
     "execution_count": 19,
     "metadata": {},
     "output_type": "execute_result"
    }
   ],
   "source": [
    "predictions_model1"
   ]
  },
  {
   "cell_type": "markdown",
   "id": "c55744d8",
   "metadata": {},
   "source": [
    "# First setting: Q1+Q2"
   ]
  },
  {
   "cell_type": "markdown",
   "id": "20ba5c73",
   "metadata": {},
   "source": [
    "##  Gradient Boosting 1"
   ]
  },
  {
   "cell_type": "code",
   "execution_count": 9,
   "id": "1325a366",
   "metadata": {},
   "outputs": [
    {
     "data": {
      "text/plain": [
       "13.207413793103454"
      ]
     },
     "execution_count": 9,
     "metadata": {},
     "output_type": "execute_result"
    }
   ],
   "source": [
    "CRPS(predictions_GB1.iloc[0:174], y_test[0:174])"
   ]
  },
  {
   "cell_type": "code",
   "execution_count": 7,
   "id": "1b8a57e0",
   "metadata": {},
   "outputs": [
    {
     "data": {
      "text/plain": [
       "1.5999453954904526"
      ]
     },
     "execution_count": 7,
     "metadata": {},
     "output_type": "execute_result"
    }
   ],
   "source": [
    "pinball_sum = 0\n",
    "for (index, colname) in enumerate(predictions_GB1.iloc[0:174]):\n",
    "    pinball_sum += mean_pinball_loss(y_test[0:174], \n",
    "                  predictions_GB1.iloc[0:174][colname], \n",
    "                  alpha=(index+1)/100)\n",
    "pinball_sum/99"
   ]
  },
  {
   "cell_type": "code",
   "execution_count": 10,
   "id": "49acf66d",
   "metadata": {},
   "outputs": [
    {
     "data": {
      "text/plain": [
       "1.5389535296936268"
      ]
     },
     "execution_count": 10,
     "metadata": {},
     "output_type": "execute_result"
    }
   ],
   "source": [
    "mean_pinball_loss(y_test[0:174], \n",
    "                  predictions_GB1.iloc[0:174][\"0.05\"], \n",
    "                  alpha=0.05)"
   ]
  },
  {
   "cell_type": "code",
   "execution_count": 11,
   "id": "17b3ae1a",
   "metadata": {},
   "outputs": [
    {
     "data": {
      "text/plain": [
       "2.61019064179013"
      ]
     },
     "execution_count": 11,
     "metadata": {},
     "output_type": "execute_result"
    }
   ],
   "source": [
    "mean_pinball_loss(y_test[0:174], \n",
    "                  predictions_GB1.iloc[0:174][\"0.50\"], \n",
    "                  alpha=0.50)"
   ]
  },
  {
   "cell_type": "code",
   "execution_count": 12,
   "id": "6d2be857",
   "metadata": {},
   "outputs": [
    {
     "data": {
      "text/plain": [
       "0.5945171318070203"
      ]
     },
     "execution_count": 12,
     "metadata": {},
     "output_type": "execute_result"
    }
   ],
   "source": [
    "mean_pinball_loss(y_test[0:174], \n",
    "                  predictions_GB1.iloc[0:174][\"0.95\"], \n",
    "                  alpha=0.95)"
   ]
  },
  {
   "cell_type": "markdown",
   "id": "0baf566f",
   "metadata": {},
   "source": [
    "## Gradient Boosting 2"
   ]
  },
  {
   "cell_type": "code",
   "execution_count": 13,
   "id": "6792152c",
   "metadata": {},
   "outputs": [
    {
     "data": {
      "text/plain": [
       "15.940402298850563"
      ]
     },
     "execution_count": 13,
     "metadata": {},
     "output_type": "execute_result"
    }
   ],
   "source": [
    "CRPS(predictions_GB2.iloc[0:174], y_test[0:174])"
   ]
  },
  {
   "cell_type": "code",
   "execution_count": 8,
   "id": "97e415fb",
   "metadata": {},
   "outputs": [
    {
     "data": {
      "text/plain": [
       "1.7778540989029892"
      ]
     },
     "execution_count": 8,
     "metadata": {},
     "output_type": "execute_result"
    }
   ],
   "source": [
    "pinball_sum = 0\n",
    "for (index, colname) in enumerate(predictions_GB2.iloc[0:174]):\n",
    "    pinball_sum += mean_pinball_loss(y_test[0:174], \n",
    "                  predictions_GB2.iloc[0:174][colname], \n",
    "                  alpha=(index+1)/100)\n",
    "pinball_sum/99"
   ]
  },
  {
   "cell_type": "code",
   "execution_count": 14,
   "id": "3a04a8bb",
   "metadata": {},
   "outputs": [
    {
     "data": {
      "text/plain": [
       "1.5870472801325841"
      ]
     },
     "execution_count": 14,
     "metadata": {},
     "output_type": "execute_result"
    }
   ],
   "source": [
    "mean_pinball_loss(y_test[0:174], \n",
    "                  predictions_GB2.iloc[0:174][\"0.05\"], \n",
    "                  alpha=0.05)"
   ]
  },
  {
   "cell_type": "code",
   "execution_count": 15,
   "id": "14459258",
   "metadata": {},
   "outputs": [
    {
     "data": {
      "text/plain": [
       "2.5279021901473886"
      ]
     },
     "execution_count": 15,
     "metadata": {},
     "output_type": "execute_result"
    }
   ],
   "source": [
    "mean_pinball_loss(y_test[0:174], \n",
    "                  predictions_GB2.iloc[0:174][\"0.50\"], \n",
    "                  alpha=0.50)"
   ]
  },
  {
   "cell_type": "code",
   "execution_count": 16,
   "id": "d2f97484",
   "metadata": {},
   "outputs": [
    {
     "data": {
      "text/plain": [
       "1.2750414113492556"
      ]
     },
     "execution_count": 16,
     "metadata": {},
     "output_type": "execute_result"
    }
   ],
   "source": [
    "mean_pinball_loss(y_test[0:174], \n",
    "                  predictions_GB2.iloc[0:174][\"0.95\"], \n",
    "                  alpha=0.95)"
   ]
  },
  {
   "cell_type": "markdown",
   "id": "21f202cd",
   "metadata": {},
   "source": [
    "## LQR - Model 1"
   ]
  },
  {
   "cell_type": "code",
   "execution_count": 17,
   "id": "4cb7822f",
   "metadata": {},
   "outputs": [
    {
     "data": {
      "text/plain": [
       "16.21235632183909"
      ]
     },
     "execution_count": 17,
     "metadata": {},
     "output_type": "execute_result"
    }
   ],
   "source": [
    "CRPS(predictions_model1.iloc[0:174], y_test[0:174])"
   ]
  },
  {
   "cell_type": "code",
   "execution_count": 9,
   "id": "2145762a",
   "metadata": {},
   "outputs": [
    {
     "data": {
      "text/plain": [
       "3.8491819264259957"
      ]
     },
     "execution_count": 9,
     "metadata": {},
     "output_type": "execute_result"
    }
   ],
   "source": [
    "pinball_sum = 0\n",
    "for (index, colname) in enumerate(predictions_model1.iloc[0:174]):\n",
    "    pinball_sum += mean_pinball_loss(y_test[0:174], \n",
    "                  predictions_model1.iloc[0:174][colname], \n",
    "                  alpha=(index+1)/100)\n",
    "pinball_sum/99"
   ]
  },
  {
   "cell_type": "code",
   "execution_count": 20,
   "id": "a79f5e1c",
   "metadata": {},
   "outputs": [
    {
     "data": {
      "text/plain": [
       "1.2641754079009961"
      ]
     },
     "execution_count": 20,
     "metadata": {},
     "output_type": "execute_result"
    }
   ],
   "source": [
    "mean_pinball_loss(y_test[0:174], \n",
    "                  predictions_model1.iloc[0:174][\"tau= 0.05\"], \n",
    "                  alpha=0.05)"
   ]
  },
  {
   "cell_type": "code",
   "execution_count": 21,
   "id": "5afeb0cf",
   "metadata": {},
   "outputs": [
    {
     "data": {
      "text/plain": [
       "5.263316949680461"
      ]
     },
     "execution_count": 21,
     "metadata": {},
     "output_type": "execute_result"
    }
   ],
   "source": [
    "mean_pinball_loss(y_test[0:174], \n",
    "                  predictions_model1.iloc[0:174][\"tau= 0.50\"], \n",
    "                  alpha=0.50)"
   ]
  },
  {
   "cell_type": "code",
   "execution_count": 22,
   "id": "9e3963f0",
   "metadata": {},
   "outputs": [
    {
     "data": {
      "text/plain": [
       "2.2140312498370807"
      ]
     },
     "execution_count": 22,
     "metadata": {},
     "output_type": "execute_result"
    }
   ],
   "source": [
    "mean_pinball_loss(y_test[0:174], \n",
    "                  predictions_model1.iloc[0:174][\"tau= 0.95\"], \n",
    "                  alpha=0.95)"
   ]
  },
  {
   "cell_type": "markdown",
   "id": "61802570",
   "metadata": {},
   "source": [
    "## LQR - Model 2"
   ]
  },
  {
   "cell_type": "code",
   "execution_count": 23,
   "id": "36424a08",
   "metadata": {},
   "outputs": [
    {
     "data": {
      "text/plain": [
       "18.300632183908043"
      ]
     },
     "execution_count": 23,
     "metadata": {},
     "output_type": "execute_result"
    }
   ],
   "source": [
    "CRPS(predictions_model2.iloc[0:174], y_test[0:174])"
   ]
  },
  {
   "cell_type": "code",
   "execution_count": 10,
   "id": "78e65f93",
   "metadata": {},
   "outputs": [
    {
     "data": {
      "text/plain": [
       "4.6248063731358515"
      ]
     },
     "execution_count": 10,
     "metadata": {},
     "output_type": "execute_result"
    }
   ],
   "source": [
    "pinball_sum = 0\n",
    "for (index, colname) in enumerate(predictions_model2.iloc[0:174]):\n",
    "    pinball_sum += mean_pinball_loss(y_test[0:174], \n",
    "                  predictions_model2.iloc[0:174][colname], \n",
    "                  alpha=(index+1)/100)\n",
    "pinball_sum/99"
   ]
  },
  {
   "cell_type": "code",
   "execution_count": 24,
   "id": "85eb5aeb",
   "metadata": {},
   "outputs": [
    {
     "data": {
      "text/plain": [
       "1.4765010862684647"
      ]
     },
     "execution_count": 24,
     "metadata": {},
     "output_type": "execute_result"
    }
   ],
   "source": [
    "mean_pinball_loss(y_test[0:174], \n",
    "                  predictions_model2.iloc[0:174][\"tau= 0.05\"], \n",
    "                  alpha=0.05)"
   ]
  },
  {
   "cell_type": "code",
   "execution_count": 25,
   "id": "60392c72",
   "metadata": {},
   "outputs": [
    {
     "data": {
      "text/plain": [
       "6.576343937116396"
      ]
     },
     "execution_count": 25,
     "metadata": {},
     "output_type": "execute_result"
    }
   ],
   "source": [
    "mean_pinball_loss(y_test[0:174], \n",
    "                  predictions_model2.iloc[0:174][\"tau= 0.50\"], \n",
    "                  alpha=0.50)"
   ]
  },
  {
   "cell_type": "code",
   "execution_count": 26,
   "id": "e43b32bf",
   "metadata": {},
   "outputs": [
    {
     "data": {
      "text/plain": [
       "2.3536576098009205"
      ]
     },
     "execution_count": 26,
     "metadata": {},
     "output_type": "execute_result"
    }
   ],
   "source": [
    "mean_pinball_loss(y_test[0:174], \n",
    "                  predictions_model2.iloc[0:174][\"tau= 0.95\"], \n",
    "                  alpha=0.95)"
   ]
  },
  {
   "cell_type": "markdown",
   "id": "a964a654",
   "metadata": {},
   "source": [
    "## LQR - Model 3"
   ]
  },
  {
   "cell_type": "code",
   "execution_count": 27,
   "id": "5276887e",
   "metadata": {},
   "outputs": [
    {
     "data": {
      "text/plain": [
       "19.373850574712648"
      ]
     },
     "execution_count": 27,
     "metadata": {},
     "output_type": "execute_result"
    }
   ],
   "source": [
    "CRPS(predictions_model3.iloc[0:174], y_test[0:174])"
   ]
  },
  {
   "cell_type": "code",
   "execution_count": 11,
   "id": "4470c196",
   "metadata": {},
   "outputs": [
    {
     "data": {
      "text/plain": [
       "2.951678138962135"
      ]
     },
     "execution_count": 11,
     "metadata": {},
     "output_type": "execute_result"
    }
   ],
   "source": [
    "pinball_sum = 0\n",
    "for (index, colname) in enumerate(predictions_model3.iloc[0:174]):\n",
    "    pinball_sum += mean_pinball_loss(y_test[0:174], \n",
    "                  predictions_model3.iloc[0:174][colname], \n",
    "                  alpha=(index+1)/100)\n",
    "pinball_sum/99"
   ]
  },
  {
   "cell_type": "code",
   "execution_count": 28,
   "id": "3e039f7f",
   "metadata": {},
   "outputs": [
    {
     "data": {
      "text/plain": [
       "1.0551209116845734"
      ]
     },
     "execution_count": 28,
     "metadata": {},
     "output_type": "execute_result"
    }
   ],
   "source": [
    "mean_pinball_loss(y_test[0:174], \n",
    "                  predictions_model3.iloc[0:174][\"tau= 0.05\"], \n",
    "                  alpha=0.05)"
   ]
  },
  {
   "cell_type": "code",
   "execution_count": 29,
   "id": "65d15828",
   "metadata": {},
   "outputs": [
    {
     "data": {
      "text/plain": [
       "3.8663899347486703"
      ]
     },
     "execution_count": 29,
     "metadata": {},
     "output_type": "execute_result"
    }
   ],
   "source": [
    "mean_pinball_loss(y_test[0:174], \n",
    "                  predictions_model3.iloc[0:174][\"tau= 0.50\"], \n",
    "                  alpha=0.50)"
   ]
  },
  {
   "cell_type": "code",
   "execution_count": 30,
   "id": "a4a159bd",
   "metadata": {},
   "outputs": [
    {
     "data": {
      "text/plain": [
       "2.3536576098009205"
      ]
     },
     "execution_count": 30,
     "metadata": {},
     "output_type": "execute_result"
    }
   ],
   "source": [
    "mean_pinball_loss(y_test[0:174], \n",
    "                  predictions_model2.iloc[0:174][\"tau= 0.95\"], \n",
    "                  alpha=0.95)"
   ]
  },
  {
   "cell_type": "markdown",
   "id": "b9120ac1",
   "metadata": {},
   "source": [
    "# Second Setting"
   ]
  },
  {
   "cell_type": "markdown",
   "id": "82beec17",
   "metadata": {},
   "source": [
    "##  Gradient Boosting 1"
   ]
  },
  {
   "cell_type": "code",
   "execution_count": 90,
   "id": "94411388",
   "metadata": {},
   "outputs": [
    {
     "data": {
      "text/plain": [
       "19.01073770491803"
      ]
     },
     "execution_count": 90,
     "metadata": {},
     "output_type": "execute_result"
    }
   ],
   "source": [
    "CRPS(predictions_GB1.iloc[175:], y_test[175:])"
   ]
  },
  {
   "cell_type": "code",
   "execution_count": 15,
   "id": "3ea72c2b",
   "metadata": {},
   "outputs": [],
   "source": [
    "pinball_GB1_test2 = []\n",
    "for (index, colname) in enumerate(predictions_GB1.iloc[175:]):\n",
    "    pinball_GB1_test2.append(mean_pinball_loss(y_test[175:], \n",
    "                  predictions_GB1.iloc[175:][colname], \n",
    "                  alpha=(index+1)/100))"
   ]
  },
  {
   "cell_type": "markdown",
   "id": "e9245330",
   "metadata": {},
   "source": [
    "## Gradient Boosting 2"
   ]
  },
  {
   "cell_type": "code",
   "execution_count": 97,
   "id": "f3bcd409",
   "metadata": {},
   "outputs": [
    {
     "data": {
      "text/plain": [
       "18.951174863387998"
      ]
     },
     "execution_count": 97,
     "metadata": {},
     "output_type": "execute_result"
    }
   ],
   "source": [
    "CRPS(predictions_GB2.iloc[175:], y_test[175:])"
   ]
  },
  {
   "cell_type": "code",
   "execution_count": 18,
   "id": "9998c817",
   "metadata": {},
   "outputs": [],
   "source": [
    "pinball_GB2_test2 = []\n",
    "for (index, colname) in enumerate(predictions_GB2.iloc[175:]):\n",
    "    pinball_GB2_test2.append(mean_pinball_loss(y_test[175:], \n",
    "                  predictions_GB2.iloc[175:][colname], \n",
    "                  alpha=(index+1)/100))"
   ]
  },
  {
   "cell_type": "markdown",
   "id": "06a9d3bb",
   "metadata": {},
   "source": [
    "## LQR - Model 1"
   ]
  },
  {
   "cell_type": "code",
   "execution_count": 75,
   "id": "02da08c7",
   "metadata": {},
   "outputs": [
    {
     "data": {
      "text/plain": [
       "21.350409836065577"
      ]
     },
     "execution_count": 75,
     "metadata": {},
     "output_type": "execute_result"
    }
   ],
   "source": [
    "CRPS(predictions_model1.iloc[175:], y_test[175:])"
   ]
  },
  {
   "cell_type": "code",
   "execution_count": 28,
   "id": "d819649b",
   "metadata": {},
   "outputs": [
    {
     "data": {
      "text/plain": [
       "[1.221210129799651,\n",
       " 2.1943512269591623,\n",
       " 3.0505614423552956,\n",
       " 3.918789429095255,\n",
       " 4.710157218340248,\n",
       " 5.5493784657088066,\n",
       " 6.230484458801871,\n",
       " 7.029193842626726,\n",
       " 7.541301077192582,\n",
       " 8.033419052010839,\n",
       " 8.656071562629233,\n",
       " 9.148027993374907,\n",
       " 9.59423259112029,\n",
       " 10.010395276807381,\n",
       " 10.602612987667683,\n",
       " 11.114804027426327,\n",
       " 11.661784046357939,\n",
       " 12.06907485173903,\n",
       " 12.6446679181401,\n",
       " 13.212835376791535,\n",
       " 13.668422162441203,\n",
       " 14.121688933100211,\n",
       " 14.660914567605548,\n",
       " 14.921215519282837,\n",
       " 15.379914843048038,\n",
       " 15.904074682316098,\n",
       " 16.187963951979906,\n",
       " 16.39919159733168,\n",
       " 16.74849843616291,\n",
       " 17.328678854087045,\n",
       " 17.649866943210736,\n",
       " 18.05263117186218,\n",
       " 18.33796456721357,\n",
       " 18.69200491323435,\n",
       " 19.096338540865226,\n",
       " 19.495221745244045,\n",
       " 20.032422359714054,\n",
       " 20.56987293121862,\n",
       " 20.89354608072023,\n",
       " 21.23712232854064,\n",
       " 21.336310834465113,\n",
       " 21.437272049765543,\n",
       " 21.38832119078853,\n",
       " 21.48777432478533,\n",
       " 21.80204168842814,\n",
       " 21.783738559656694,\n",
       " 21.904836810484433,\n",
       " 21.84509604597264,\n",
       " 21.846770004028873,\n",
       " 21.45154406169314,\n",
       " 21.252040378309122,\n",
       " 21.361512945279014,\n",
       " 21.417289838070783,\n",
       " 21.625360205320426,\n",
       " 21.501278716792996,\n",
       " 21.691643494859523,\n",
       " 22.039689987598777,\n",
       " 22.0394632343905,\n",
       " 21.869117464421564,\n",
       " 22.062546455448768,\n",
       " 22.310297191312333,\n",
       " 22.133710435674864,\n",
       " 22.250271576615525,\n",
       " 21.862326622300344,\n",
       " 21.81251048442643,\n",
       " 21.5608635421975,\n",
       " 21.13807807656784,\n",
       " 20.92326414747433,\n",
       " 20.77782946473476,\n",
       " 20.961343939957455,\n",
       " 20.727682806424387,\n",
       " 20.751249713874017,\n",
       " 20.79086780664668,\n",
       " 20.083847888261914,\n",
       " 19.641681051904694,\n",
       " 19.46380499489568,\n",
       " 18.898961091316444,\n",
       " 18.65174260534202,\n",
       " 18.512996781565693,\n",
       " 18.422237836576596,\n",
       " 18.434631818716905,\n",
       " 18.644288102838882,\n",
       " 18.280214606162986,\n",
       " 17.61328128618951,\n",
       " 17.70295223900259,\n",
       " 19.069069293727377,\n",
       " 18.176104536644385,\n",
       " 17.17883821075877,\n",
       " 16.880295368998098,\n",
       " 17.022313130654577,\n",
       " 16.720032780137384,\n",
       " 16.031465051391397,\n",
       " 13.976235066163262,\n",
       " 11.729618736085119,\n",
       " 9.65403757891946,\n",
       " 8.574619431830412,\n",
       " 6.347750944009446,\n",
       " 4.247602146226876,\n",
       " 4.41409299627113]"
      ]
     },
     "execution_count": 28,
     "metadata": {},
     "output_type": "execute_result"
    }
   ],
   "source": [
    "pinball_model1_test2 = []\n",
    "for (index, colname) in enumerate(predictions_model1.iloc[175:]):\n",
    "    pinball_model1_test2.append(mean_pinball_loss(y_test[175:], \n",
    "                  predictions_model1.iloc[175:][colname], \n",
    "                  alpha=(index+1)/100))\n",
    "pinball_model1_test2"
   ]
  },
  {
   "cell_type": "markdown",
   "id": "8774981c",
   "metadata": {},
   "source": [
    "## LQR - Model 2"
   ]
  },
  {
   "cell_type": "code",
   "execution_count": 81,
   "id": "53e7e3d8",
   "metadata": {},
   "outputs": [
    {
     "data": {
      "text/plain": [
       "23.519808743169378"
      ]
     },
     "execution_count": 81,
     "metadata": {},
     "output_type": "execute_result"
    }
   ],
   "source": [
    "CRPS(predictions_model2.iloc[175:], y_test[175:])"
   ]
  },
  {
   "cell_type": "code",
   "execution_count": 21,
   "id": "f6894d7a",
   "metadata": {},
   "outputs": [],
   "source": [
    "pinball_model2_test2 = []\n",
    "for (index, colname) in enumerate(predictions_model2.iloc[175:]):\n",
    "    pinball_model2_test2.append(mean_pinball_loss(y_test[175:], \n",
    "                  predictions_model2.iloc[175:][colname], \n",
    "                  alpha=(index+1)/100))"
   ]
  },
  {
   "cell_type": "markdown",
   "id": "bb7269db",
   "metadata": {},
   "source": [
    "## LQR - Model 3"
   ]
  },
  {
   "cell_type": "code",
   "execution_count": 85,
   "id": "9755e98e",
   "metadata": {},
   "outputs": [
    {
     "data": {
      "text/plain": [
       "23.89827868852457"
      ]
     },
     "execution_count": 85,
     "metadata": {},
     "output_type": "execute_result"
    }
   ],
   "source": [
    "CRPS(predictions_model3.iloc[175:], y_test[175:])"
   ]
  },
  {
   "cell_type": "code",
   "execution_count": 22,
   "id": "8db2c70c",
   "metadata": {},
   "outputs": [],
   "source": [
    "pinball_model3_test2 = []\n",
    "for (index, colname) in enumerate(predictions_model3.iloc[175:]):\n",
    "    pinball_model3_test2.append(mean_pinball_loss(y_test[175:], \n",
    "                  predictions_model3.iloc[175:][colname], \n",
    "                  alpha=(index+1)/100))"
   ]
  },
  {
   "cell_type": "code",
   "execution_count": 26,
   "id": "012ac2c8",
   "metadata": {},
   "outputs": [
    {
     "data": {
      "text/plain": [
       "[]"
      ]
     },
     "execution_count": 26,
     "metadata": {},
     "output_type": "execute_result"
    }
   ],
   "source": [
    "pinball_model1_test2"
   ]
  },
  {
   "cell_type": "code",
   "execution_count": 35,
   "id": "d13f2c3f",
   "metadata": {},
   "outputs": [],
   "source": [
    "pinball2 = pd.DataFrame({\n",
    "    \"tau\": np.linspace(1,99, num=99),\n",
    "    \"model1\": pinball_model1_test2,\n",
    "    \"model2\": pinball_model2_test2,\n",
    "    \"model3\": pinball_model3_test2,\n",
    "    \"GB1\": pinball_GB1_test2,\n",
    "    \"GB2\": pinball_GB2_test2,\n",
    "})"
   ]
  },
  {
   "cell_type": "code",
   "execution_count": 37,
   "id": "6433a26c",
   "metadata": {},
   "outputs": [],
   "source": [
    "pinball2.to_csv(\"../../results/pinball2.csv\")"
   ]
  },
  {
   "cell_type": "code",
   "execution_count": null,
   "id": "c40935b0",
   "metadata": {},
   "outputs": [],
   "source": []
  }
 ],
 "metadata": {
  "kernelspec": {
   "display_name": "Python 3 (ipykernel)",
   "language": "python",
   "name": "python3"
  },
  "language_info": {
   "codemirror_mode": {
    "name": "ipython",
    "version": 3
   },
   "file_extension": ".py",
   "mimetype": "text/x-python",
   "name": "python",
   "nbconvert_exporter": "python",
   "pygments_lexer": "ipython3",
   "version": "3.9.12"
  }
 },
 "nbformat": 4,
 "nbformat_minor": 5
}

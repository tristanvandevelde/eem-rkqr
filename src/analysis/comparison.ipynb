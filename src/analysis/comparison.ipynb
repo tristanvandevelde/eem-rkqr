{
 "cells": [
  {
   "cell_type": "code",
   "execution_count": 4,
   "id": "00c46e34",
   "metadata": {},
   "outputs": [],
   "source": [
    "import pandas as pd\n",
    "from CRPS import CRPS\n",
    "from sklearn.metrics import mean_pinball_loss"
   ]
  },
  {
   "cell_type": "code",
   "execution_count": 7,
   "id": "df773267",
   "metadata": {},
   "outputs": [],
   "source": [
    "df_lasso = pd.read_csv(\"../../results/predictions_lasso_1.csv\")\n",
    "df_scad = pd.read_csv(\"../../results/predictions_scad_1.csv\")"
   ]
  },
  {
   "cell_type": "code",
   "execution_count": 14,
   "id": "950e0a24",
   "metadata": {},
   "outputs": [],
   "source": [
    "# import data\n",
    "hour = 17\n",
    "data = pd.read_csv(f\"../../data/final_{hour}.csv\")\n",
    "data[\"datetime\"] = pd.to_datetime(data[\"datetime\"])"
   ]
  },
  {
   "cell_type": "code",
   "execution_count": 15,
   "id": "db56baa5",
   "metadata": {},
   "outputs": [],
   "source": [
    "# make lagged variables\n",
    "data[\"priceBE_lag1\"] = data[\"priceBE\"].shift(1)\n",
    "data[\"priceBE_lag2\"] = data[\"priceBE\"].shift(2)\n",
    "data[\"priceBE_lag3\"] = data[\"priceBE\"].shift(3)\n",
    "data[\"priceBE_lag4\"] = data[\"priceBE\"].shift(4)\n",
    "data[\"priceBE_lag5\"] = data[\"priceBE\"].shift(5)"
   ]
  },
  {
   "cell_type": "code",
   "execution_count": null,
   "id": "7b5d0886",
   "metadata": {},
   "outputs": [],
   "source": []
  },
  {
   "cell_type": "code",
   "execution_count": 11,
   "id": "d16b0431",
   "metadata": {},
   "outputs": [
    {
     "data": {
      "text/plain": [
       "0        58.783028\n",
       "1        58.792971\n",
       "2        58.767991\n",
       "3        58.770671\n",
       "4        58.866332\n",
       "           ...    \n",
       "1781    162.802394\n",
       "1782    162.882086\n",
       "1783    162.731264\n",
       "1784    162.816050\n",
       "1785    164.745764\n",
       "Name: X1, Length: 1786, dtype: float64"
      ]
     },
     "execution_count": 11,
     "metadata": {},
     "output_type": "execute_result"
    }
   ],
   "source": [
    "df_lasso.iloc[:,0]"
   ]
  },
  {
   "cell_type": "code",
   "execution_count": null,
   "id": "73ad6aaa",
   "metadata": {},
   "outputs": [],
   "source": [
    "for i in ran\n",
    "mean_pinball_loss(y_test, predictions[\"0.05\"], alpha=0.05)"
   ]
  },
  {
   "cell_type": "code",
   "execution_count": 13,
   "id": "283da771",
   "metadata": {},
   "outputs": [
    {
     "name": "stdout",
     "output_type": "stream",
     "text": [
      "0\n",
      "1\n",
      "2\n",
      "3\n",
      "4\n",
      "5\n",
      "6\n",
      "7\n",
      "8\n"
     ]
    }
   ],
   "source": [
    "for i in range(0,9):\n",
    "    mean_pinball_loss(y_test, df_lasso.iloc[:,i], alpha=(i+1)/10)"
   ]
  },
  {
   "cell_type": "code",
   "execution_count": null,
   "id": "853275f3",
   "metadata": {},
   "outputs": [],
   "source": []
  }
 ],
 "metadata": {
  "kernelspec": {
   "display_name": "Python 3 (ipykernel)",
   "language": "python",
   "name": "python3"
  },
  "language_info": {
   "codemirror_mode": {
    "name": "ipython",
    "version": 3
   },
   "file_extension": ".py",
   "mimetype": "text/x-python",
   "name": "python",
   "nbconvert_exporter": "python",
   "pygments_lexer": "ipython3",
   "version": "3.9.12"
  }
 },
 "nbformat": 4,
 "nbformat_minor": 5
}

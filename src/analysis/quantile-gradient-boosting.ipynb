{
 "cells": [
  {
   "cell_type": "code",
   "execution_count": 34,
   "id": "901b60ba",
   "metadata": {},
   "outputs": [],
   "source": [
    "import pandas as pd\n",
    "import numpy as np\n",
    "from sklearn.ensemble import GradientBoostingRegressor\n",
    "from sklearn.metrics import mean_pinball_loss, mean_squared_error"
   ]
  },
  {
   "cell_type": "code",
   "execution_count": 35,
   "id": "d29599e2",
   "metadata": {},
   "outputs": [],
   "source": [
    "data_17 = pd.read_csv(\"../../data/final_17.csv\")"
   ]
  },
  {
   "cell_type": "code",
   "execution_count": 36,
   "id": "3b33f5d0",
   "metadata": {},
   "outputs": [],
   "source": [
    "data_17[\"datetime\"] = pd.to_datetime(data_17[\"datetime\"])\n",
    "data_17.drop([\"loadFR\"], axis=1, inplace=True)"
   ]
  },
  {
   "cell_type": "code",
   "execution_count": 37,
   "id": "7be5337f",
   "metadata": {},
   "outputs": [],
   "source": [
    "data_17.dropna(inplace=True)"
   ]
  },
  {
   "cell_type": "code",
   "execution_count": 38,
   "id": "5e681689",
   "metadata": {},
   "outputs": [],
   "source": [
    "data_17_train = data_17[data_17[\"datetime\"].dt.year <= 2021]\n",
    "data_17_test = data_17[(data_17[\"datetime\"].dt.year == 2021) & (data_17[\"datetime\"].dt.month < 7)]"
   ]
  },
  {
   "cell_type": "code",
   "execution_count": 64,
   "id": "1332d2f5",
   "metadata": {},
   "outputs": [],
   "source": [
    "X_train = data_17_train.drop([\"datetime\", \"priceBE\"], axis=1)\n",
    "y_train = data_17_train[\"priceBE\"]\n",
    "X_test = data_17_test.drop([\"datetime\", \"priceBE\"], axis=1)\n",
    "y_test = data_17_test[\"priceBE\"]"
   ]
  },
  {
   "cell_type": "code",
   "execution_count": 76,
   "id": "bd56c188",
   "metadata": {},
   "outputs": [
    {
     "data": {
      "text/plain": [
       "5466    60.61\n",
       "5467    60.61\n",
       "5468    60.61\n",
       "5469    60.61\n",
       "5470    60.61\n",
       "        ...  \n",
       "6366    99.97\n",
       "6367    99.97\n",
       "6368    99.97\n",
       "6369    99.97\n",
       "6370    99.97\n",
       "Name: priceBE, Length: 870, dtype: float64"
      ]
     },
     "execution_count": 76,
     "metadata": {},
     "output_type": "execute_result"
    }
   ],
   "source": [
    "y_test"
   ]
  },
  {
   "cell_type": "code",
   "execution_count": 81,
   "id": "d396f6a0",
   "metadata": {},
   "outputs": [],
   "source": [
    "all_models = {}\n",
    "common_params = dict(\n",
    "    learning_rate=0.05,\n",
    "    n_estimators=200,\n",
    "    max_depth=2,\n",
    "    min_samples_leaf=9,\n",
    "    min_samples_split=9,\n",
    ")\n",
    "for alpha in np.linspace(0.01, 0.99, 99):\n",
    "    gbr = GradientBoostingRegressor(loss=\"quantile\", alpha=alpha, **common_params)\n",
    "    all_models[\"%1.2f\" % alpha] = gbr.fit(X_train, y_train)"
   ]
  },
  {
   "cell_type": "code",
   "execution_count": 82,
   "id": "36b42b54",
   "metadata": {},
   "outputs": [],
   "source": [
    "predictions = pd.DataFrame()\n",
    "for model in all_models:\n",
    "    predictions[model] = all_models[model].predict(X_test)"
   ]
  },
  {
   "cell_type": "code",
   "execution_count": 84,
   "id": "047e061a",
   "metadata": {},
   "outputs": [
    {
     "data": {
      "text/plain": [
       "0.9689885467395148"
      ]
     },
     "execution_count": 84,
     "metadata": {},
     "output_type": "execute_result"
    }
   ],
   "source": [
    "mean_pinball_loss(y_test, predictions[\"0.05\"], alpha=0.05)"
   ]
  },
  {
   "cell_type": "code",
   "execution_count": 85,
   "id": "d5ef5808",
   "metadata": {},
   "outputs": [
    {
     "data": {
      "text/plain": [
       "1.2191481014252783"
      ]
     },
     "execution_count": 85,
     "metadata": {},
     "output_type": "execute_result"
    }
   ],
   "source": [
    "mean_pinball_loss(y_test, predictions[\"0.50\"], alpha=0.5)"
   ]
  },
  {
   "cell_type": "code",
   "execution_count": 86,
   "id": "f490ea79",
   "metadata": {},
   "outputs": [
    {
     "data": {
      "text/plain": [
       "0.7054219207627703"
      ]
     },
     "execution_count": 86,
     "metadata": {},
     "output_type": "execute_result"
    }
   ],
   "source": [
    "mean_pinball_loss(y_test, predictions[\"0.95\"], alpha=0.95)"
   ]
  },
  {
   "cell_type": "code",
   "execution_count": 146,
   "id": "d624b472",
   "metadata": {},
   "outputs": [],
   "source": [
    "def CRPS(predictions, observations):\n",
    "    results = pd.DataFrame([])\n",
    "    for column in predictions:\n",
    "        delta = np.array(predictions[column].values - observations.values)\n",
    "        results[predictions[column].name] = np.square(float(predictions[column].name) - np.heaviside(delta, 1))\n",
    "    return results.sum(axis=1).mean()"
   ]
  },
  {
   "cell_type": "code",
   "execution_count": 147,
   "id": "d7f54293",
   "metadata": {},
   "outputs": [
    {
     "data": {
      "text/plain": [
       "16.077850574712592"
      ]
     },
     "execution_count": 147,
     "metadata": {},
     "output_type": "execute_result"
    }
   ],
   "source": [
    "CRPS(predictions, y_test)"
   ]
  },
  {
   "cell_type": "code",
   "execution_count": null,
   "id": "b944ff00",
   "metadata": {},
   "outputs": [],
   "source": []
  }
 ],
 "metadata": {
  "kernelspec": {
   "display_name": "Python 3 (ipykernel)",
   "language": "python",
   "name": "python3"
  },
  "language_info": {
   "codemirror_mode": {
    "name": "ipython",
    "version": 3
   },
   "file_extension": ".py",
   "mimetype": "text/x-python",
   "name": "python",
   "nbconvert_exporter": "python",
   "pygments_lexer": "ipython3",
   "version": "3.9.12"
  }
 },
 "nbformat": 4,
 "nbformat_minor": 5
}

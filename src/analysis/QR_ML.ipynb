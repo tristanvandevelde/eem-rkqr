{
 "cells": [
  {
   "cell_type": "code",
   "execution_count": 1,
   "id": "3d7f15db",
   "metadata": {},
   "outputs": [],
   "source": [
    "import functools\n",
    "import pandas as pd\n",
    "import numpy as np\n",
    "from sklearn.ensemble import GradientBoostingRegressor\n",
    "from sklearn.metrics import mean_pinball_loss\n",
    "from sklearn.preprocessing import PolynomialFeatures\n",
    "#!pip install xgboost\n",
    "#import xgboost as xgb\n",
    "#from keras.models import Sequential\n",
    "#from keras.layers import Dense, Activation\n",
    "#import keras.backend as K\n",
    "#from tensorflow.keras.callbacks import EarlyStopping\n",
    "#!pip install tensorflow_addons\n",
    "#import tensorflow_addons as tfa\n",
    "from tqdm import tqdm"
   ]
  },
  {
   "cell_type": "code",
   "execution_count": 2,
   "id": "4119da33",
   "metadata": {},
   "outputs": [],
   "source": [
    "# import data\n",
    "hour = 17\n",
    "data = pd.read_csv(f\"../../data/final_{hour}.csv\")\n",
    "data[\"datetime\"] = pd.to_datetime(data[\"datetime\"])"
   ]
  },
  {
   "cell_type": "code",
   "execution_count": 3,
   "id": "4259c069",
   "metadata": {},
   "outputs": [],
   "source": [
    "# make lagged variables\n",
    "# BE\n",
    "data[\"priceBE_lag1\"] = data[\"priceBE\"].shift(1)\n",
    "data[\"priceBE_lag2\"] = data[\"priceBE\"].shift(2)\n",
    "data[\"priceBE_lag3\"] = data[\"priceBE\"].shift(3)\n",
    "data[\"priceBE_lag4\"] = data[\"priceBE\"].shift(4)\n",
    "data[\"priceBE_lag5\"] = data[\"priceBE\"].shift(5)\n",
    "# NL\n",
    "data[\"priceNL_lag1\"] = data[\"priceNL\"].shift(1)\n",
    "data[\"priceNL_lag2\"] = data[\"priceNL\"].shift(2)\n",
    "data[\"priceNL_lag3\"] = data[\"priceNL\"].shift(3)\n",
    "data[\"priceNL_lag4\"] = data[\"priceNL\"].shift(4)\n",
    "data[\"priceNL_lag5\"] = data[\"priceNL\"].shift(5)\n",
    "# FR\n",
    "data[\"priceFR_lag1\"] = data[\"priceFR\"].shift(1)\n",
    "data[\"priceFR_lag2\"] = data[\"priceFR\"].shift(2)\n",
    "data[\"priceFR_lag3\"] = data[\"priceFR\"].shift(3)\n",
    "data[\"priceFR_lag4\"] = data[\"priceFR\"].shift(4)\n",
    "data[\"priceFR_lag5\"] = data[\"priceFR\"].shift(5)\n",
    "# DE\n",
    "data[\"priceDE_lag1\"] = data[\"priceDE\"].shift(1)\n",
    "data[\"priceDE_lag2\"] = data[\"priceDE\"].shift(2)\n",
    "data[\"priceDE_lag3\"] = data[\"priceDE\"].shift(3)\n",
    "data[\"priceDE_lag4\"] = data[\"priceDE\"].shift(4)\n",
    "data[\"priceDE_lag5\"] = data[\"priceDE\"].shift(5)\n",
    "# drop other variables\n",
    "data.drop([\"priceNL\", \"priceFR\", \"priceDE\"], axis=1, inplace=True)"
   ]
  },
  {
   "cell_type": "code",
   "execution_count": 4,
   "id": "1893d80c",
   "metadata": {},
   "outputs": [],
   "source": [
    "# cleanup\n",
    "data.drop([\"loadFR\"], axis=1, inplace=True)\n",
    "data.dropna(inplace=True)\n",
    "data.drop_duplicates(subset=\"datetime\", keep=\"last\", inplace=True)"
   ]
  },
  {
   "cell_type": "code",
   "execution_count": 5,
   "id": "e751d1f4",
   "metadata": {},
   "outputs": [],
   "source": [
    "# train/test split\n",
    "data = data[data[\"datetime\"].dt.year < 2022]\n",
    "data_train = data[data[\"datetime\"].dt.year < 2021]\n",
    "data_test = data[(data[\"datetime\"].dt.year == 2021)] \n",
    "                 #& (data[\"datetime\"].dt.month < 7)]\n",
    "X_train = data_train.drop([\"datetime\", \"priceBE\"], axis=1)\n",
    "y_train = data_train[\"priceBE\"]\n",
    "X_test = data_test.drop([\"datetime\", \"priceBE\"], axis=1)\n",
    "y_test = data_test[\"priceBE\"]"
   ]
  },
  {
   "cell_type": "markdown",
   "id": "9cd24eca",
   "metadata": {},
   "source": [
    "# Gradient Boosting"
   ]
  },
  {
   "cell_type": "markdown",
   "id": "1e728c7e",
   "metadata": {},
   "source": [
    "## Degree = 1"
   ]
  },
  {
   "cell_type": "code",
   "execution_count": 6,
   "id": "5838ec2c",
   "metadata": {},
   "outputs": [
    {
     "name": "stderr",
     "output_type": "stream",
     "text": [
      "100%|███████████████████████████████████████████| 99/99 [01:06<00:00,  1.49it/s]\n"
     ]
    }
   ],
   "source": [
    "all_models = {}\n",
    "common_params = dict(\n",
    "    learning_rate = 0.05,\n",
    "    n_estimators = 200,\n",
    "    max_depth = 2,\n",
    "    min_samples_leaf = 9,\n",
    "    min_samples_split = 9,\n",
    "    validation_fraction = 0.3,\n",
    "    n_iter_no_change=5,\n",
    "    tol=0.01,\n",
    "    random_state=0\n",
    ")\n",
    "for tau in tqdm(np.linspace(0.01, 0.99, 99)):\n",
    "    gbr = GradientBoostingRegressor(\n",
    "        loss=\"quantile\", \n",
    "        alpha=tau, \n",
    "        **common_params\n",
    "    )\n",
    "    all_models[\"%1.2f\" % tau] = gbr.fit(X_train, y_train)"
   ]
  },
  {
   "cell_type": "code",
   "execution_count": 7,
   "id": "a8fd6eef",
   "metadata": {},
   "outputs": [],
   "source": [
    "predictions = pd.DataFrame()\n",
    "for model in all_models:\n",
    "    predictions[model] = all_models[model].predict(X_test)"
   ]
  },
  {
   "cell_type": "code",
   "execution_count": 8,
   "id": "4448d120",
   "metadata": {},
   "outputs": [],
   "source": [
    "predictions.to_csv(\"../../results/predictions_GB1.csv\", \n",
    "                  index = False)"
   ]
  },
  {
   "cell_type": "markdown",
   "id": "2648234e",
   "metadata": {},
   "source": [
    "## Degree = 2"
   ]
  },
  {
   "cell_type": "code",
   "execution_count": 9,
   "id": "48171cc0",
   "metadata": {},
   "outputs": [
    {
     "name": "stderr",
     "output_type": "stream",
     "text": [
      "100%|███████████████████████████████████████████| 99/99 [15:01<00:00,  9.10s/it]\n"
     ]
    }
   ],
   "source": [
    "from sklearn.preprocessing import PolynomialFeatures\n",
    "poly_2 = PolynomialFeatures(2)\n",
    "\n",
    "all_models = {}\n",
    "common_params = dict(\n",
    "    learning_rate = 0.05,\n",
    "    n_estimators = 200,\n",
    "    max_depth = 2,\n",
    "    min_samples_leaf = 9,\n",
    "    min_samples_split = 9,\n",
    "    validation_fraction = 0.3,\n",
    "    n_iter_no_change=5,\n",
    "    tol=0.01,\n",
    "    random_state=0\n",
    ")\n",
    "for tau in tqdm(np.linspace(0.01, 0.99, 99)):\n",
    "    gbr = GradientBoostingRegressor(\n",
    "        loss=\"quantile\", \n",
    "        alpha=tau, \n",
    "        **common_params\n",
    "    )\n",
    "    all_models[\"%1.2f\" % tau] = gbr.fit(\n",
    "        pd.DataFrame(poly_2.fit_transform(X_train)), y_train)"
   ]
  },
  {
   "cell_type": "code",
   "execution_count": 10,
   "id": "09a86c3c",
   "metadata": {},
   "outputs": [],
   "source": [
    "predictions = pd.DataFrame()\n",
    "for model in all_models:\n",
    "    predictions[model] = all_models[model].predict(pd.DataFrame(poly_2.fit_transform(X_test)))"
   ]
  },
  {
   "cell_type": "code",
   "execution_count": 11,
   "id": "3f8651ba",
   "metadata": {},
   "outputs": [],
   "source": [
    "predictions.to_csv(\"../../results/predictions_GB2.csv\", \n",
    "                  index = False)"
   ]
  },
  {
   "cell_type": "markdown",
   "id": "4e53fdaa",
   "metadata": {},
   "source": [
    "# Neural Networks"
   ]
  },
  {
   "cell_type": "code",
   "execution_count": null,
   "id": "5a92803a",
   "metadata": {},
   "outputs": [],
   "source": [
    "es = EarlyStopping(\n",
    "    monitor = 'val_loss', \n",
    "    mode = 'min', \n",
    "    min_delta = 1,\n",
    "    patience = 50,\n",
    "    verbose = 1\n",
    ")"
   ]
  },
  {
   "cell_type": "code",
   "execution_count": null,
   "id": "113a487f",
   "metadata": {},
   "outputs": [],
   "source": [
    "def quantileModel1():\n",
    "    # make model graph\n",
    "    model = Sequential()\n",
    "    # add 50 neurons in hidden layer with RELU activation\n",
    "    model.add(Dense(units = 50, input_dim = len(X_train.columns), activation = 'relu'))\n",
    "    # add 1 output layer\n",
    "    model.add(Dense(1))\n",
    "    return model"
   ]
  },
  {
   "cell_type": "code",
   "execution_count": null,
   "id": "a5af39b2",
   "metadata": {},
   "outputs": [],
   "source": [
    "predictions = pd.DataFrame()\n",
    "for tau in tqdm(np.linspace(0.01, 0.99, 99)):\n",
    "    model = quantileModel1()\n",
    "    model.compile(\n",
    "        loss=functools.partial(tfa.losses.pinball_loss, tau=tau),\n",
    "        optimizer = \"adadelta\"\n",
    "    )\n",
    "    model.fit(\n",
    "        X_train, y_train, \n",
    "        validation_split = 0.3,\n",
    "        epochs = 500, \n",
    "        batch_size = 32,\n",
    "        verbose = 0,\n",
    "        callbacks = [es]\n",
    "    )\n",
    "    predictions[\"%1.2f\" % tau] = model.predict(X_test).flatten()"
   ]
  },
  {
   "cell_type": "code",
   "execution_count": null,
   "id": "5cd3661a",
   "metadata": {},
   "outputs": [],
   "source": [
    "predictions"
   ]
  },
  {
   "cell_type": "code",
   "execution_count": null,
   "id": "1318df13",
   "metadata": {},
   "outputs": [],
   "source": [
    "predictions.to_csv(\"../../results/predictions_NN.csv\", \n",
    "                  index = False)"
   ]
  },
  {
   "cell_type": "code",
   "execution_count": null,
   "id": "32c2bb11",
   "metadata": {},
   "outputs": [],
   "source": []
  }
 ],
 "metadata": {
  "kernelspec": {
   "display_name": "Python 3 (ipykernel)",
   "language": "python",
   "name": "python3"
  },
  "language_info": {
   "codemirror_mode": {
    "name": "ipython",
    "version": 3
   },
   "file_extension": ".py",
   "mimetype": "text/x-python",
   "name": "python",
   "nbconvert_exporter": "python",
   "pygments_lexer": "ipython3",
   "version": "3.9.12"
  }
 },
 "nbformat": 4,
 "nbformat_minor": 5
}

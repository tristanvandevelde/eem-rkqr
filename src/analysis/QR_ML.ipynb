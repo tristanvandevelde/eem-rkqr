{
 "cells": [
  {
   "cell_type": "code",
   "execution_count": 1,
   "id": "3d7f15db",
   "metadata": {},
   "outputs": [
    {
     "name": "stderr",
     "output_type": "stream",
     "text": [
      "2023-03-02 11:03:30.524508: I tensorflow/core/platform/cpu_feature_guard.cc:193] This TensorFlow binary is optimized with oneAPI Deep Neural Network Library (oneDNN) to use the following CPU instructions in performance-critical operations:  AVX2 FMA\n",
      "To enable them in other operations, rebuild TensorFlow with the appropriate compiler flags.\n"
     ]
    },
    {
     "name": "stdout",
     "output_type": "stream",
     "text": [
      "Requirement already satisfied: tensorflow_addons in /Users/tristanvandevelde/opt/anaconda3/lib/python3.9/site-packages (0.19.0)\r\n",
      "Requirement already satisfied: packaging in /Users/tristanvandevelde/opt/anaconda3/lib/python3.9/site-packages (from tensorflow_addons) (21.3)\r\n",
      "Requirement already satisfied: typeguard>=2.7 in /Users/tristanvandevelde/opt/anaconda3/lib/python3.9/site-packages (from tensorflow_addons) (2.13.3)\r\n",
      "Requirement already satisfied: pyparsing!=3.0.5,>=2.0.2 in /Users/tristanvandevelde/opt/anaconda3/lib/python3.9/site-packages (from packaging->tensorflow_addons) (3.0.4)\r\n"
     ]
    }
   ],
   "source": [
    "import functools\n",
    "import pandas as pd\n",
    "import numpy as np\n",
    "from sklearn.ensemble import GradientBoostingRegressor\n",
    "from sklearn.metrics import mean_pinball_loss\n",
    "from keras.models import Sequential\n",
    "from keras.layers import Dense, Activation\n",
    "import keras.backend as K\n",
    "from tensorflow.keras.callbacks import EarlyStopping\n",
    "!pip install tensorflow_addons\n",
    "import tensorflow_addons as tfa\n",
    "from CRPS import CRPS"
   ]
  },
  {
   "cell_type": "code",
   "execution_count": 4,
   "id": "4119da33",
   "metadata": {},
   "outputs": [],
   "source": [
    "# import data\n",
    "hour = 17\n",
    "data = pd.read_csv(f\"../../data/final_{hour}.csv\")\n",
    "data[\"datetime\"] = pd.to_datetime(data[\"datetime\"])"
   ]
  },
  {
   "cell_type": "code",
   "execution_count": 5,
   "id": "4259c069",
   "metadata": {},
   "outputs": [],
   "source": [
    "# make lagged variables\n",
    "data[\"priceBE_lag1\"] = data[\"priceBE\"].shift(1)\n",
    "data[\"priceBE_lag2\"] = data[\"priceBE\"].shift(2)\n",
    "data[\"priceBE_lag3\"] = data[\"priceBE\"].shift(3)\n",
    "data[\"priceBE_lag4\"] = data[\"priceBE\"].shift(4)\n",
    "data[\"priceBE_lag5\"] = data[\"priceBE\"].shift(5)"
   ]
  },
  {
   "cell_type": "code",
   "execution_count": 9,
   "id": "1893d80c",
   "metadata": {},
   "outputs": [],
   "source": [
    "# cleanup\n",
    "data.drop([\"loadFR\"], axis=1, inplace=True)\n",
    "data.dropna(inplace=True)"
   ]
  },
  {
   "cell_type": "code",
   "execution_count": 10,
   "id": "e751d1f4",
   "metadata": {},
   "outputs": [],
   "source": [
    "# train/test split\n",
    "data_train = data[data[\"datetime\"].dt.year <= 2021]\n",
    "data_test = data[(data[\"datetime\"].dt.year == 2021) \n",
    "                 & (data[\"datetime\"].dt.month < 7)]\n",
    "X_train = data_train.drop([\"datetime\", \"priceBE\"], axis=1)\n",
    "y_train = data_train[\"priceBE\"]\n",
    "X_test = data_test.drop([\"datetime\", \"priceBE\"], axis=1)\n",
    "y_test = data_test[\"priceBE\"]"
   ]
  },
  {
   "cell_type": "markdown",
   "id": "9cd24eca",
   "metadata": {},
   "source": [
    "# Gradient Boosting"
   ]
  },
  {
   "cell_type": "code",
   "execution_count": null,
   "id": "5838ec2c",
   "metadata": {},
   "outputs": [],
   "source": [
    "all_models = {}\n",
    "common_params = dict(\n",
    "    learning_rate = 0.05,\n",
    "    n_estimators = 200,\n",
    "    max_depth = 2,\n",
    "    min_samples_leaf = 9,\n",
    "    min_samples_split = 9,\n",
    "    validation_fraction = 0.3,\n",
    "    n_iter_no_change=5,\n",
    "    tol=0.01,\n",
    "    random_state=0\n",
    ")\n",
    "for tau in np.linspace(0.01, 0.99, 99):\n",
    "    gbr = GradientBoostingRegressor(\n",
    "        loss=\"quantile\", \n",
    "        alpha=tau, \n",
    "        **common_params\n",
    "    )\n",
    "    all_models[\"%1.2f\" % alpha] = gbr.fit(X_train, y_train)"
   ]
  },
  {
   "cell_type": "code",
   "execution_count": null,
   "id": "a8fd6eef",
   "metadata": {},
   "outputs": [],
   "source": [
    "predictions = pd.DataFrame()\n",
    "for model in all_models:\n",
    "    predictions[model] = all_models[model].predict(X_test)"
   ]
  },
  {
   "cell_type": "code",
   "execution_count": null,
   "id": "da65bd01",
   "metadata": {},
   "outputs": [],
   "source": [
    "mean_pinball_loss(y_test, predictions[\"0.05\"], alpha=0.05)\n",
    "mean_pinball_loss(y_test, predictions[\"0.50\"], alpha=0.50)\n",
    "mean_pinball_loss(y_test, predictions[\"0.95\"], alpha=0.95)\n",
    "CRPS(predictions, y_test)"
   ]
  },
  {
   "cell_type": "markdown",
   "id": "4e53fdaa",
   "metadata": {},
   "source": [
    "# Neural Networks"
   ]
  },
  {
   "cell_type": "code",
   "execution_count": null,
   "id": "5a92803a",
   "metadata": {},
   "outputs": [],
   "source": [
    "es = EarlyStopping(\n",
    "    monitor = 'val_loss', \n",
    "    mode = 'min', \n",
    "    min_delta = 1,\n",
    "    patience = 50,\n",
    "    verbose = 1\n",
    ")"
   ]
  },
  {
   "cell_type": "code",
   "execution_count": null,
   "id": "113a487f",
   "metadata": {},
   "outputs": [],
   "source": [
    "def quantileModel1():\n",
    "    # make model graph\n",
    "    model = Sequential()\n",
    "    # add 10 neurons in hidden layer with RELU activation\n",
    "    model.add(Dense(units = 10, input_dim = len(X_train.columns), activation = 'relu'))\n",
    "    # add 1 output layer\n",
    "    model.add(Dense(1))\n",
    "    \n",
    "    return model"
   ]
  },
  {
   "cell_type": "code",
   "execution_count": null,
   "id": "a5af39b2",
   "metadata": {},
   "outputs": [],
   "source": [
    "for tau in np.linspace(0.01, 0.99, 99):\n",
    "    model = quantileModel1()\n",
    "    model.compile(\n",
    "        loss=functools.partial(tfa.losses.pinball_loss, tau=tau),\n",
    "        optimizer = \"adadelta\"\n",
    "    )\n",
    "    all_models[\"%1.2f\" % tau] = model.fit(\n",
    "        X_train, y_train, \n",
    "        validation_split = 0.3,\n",
    "        epochs = 500, \n",
    "        batch_size = 32,\n",
    "        verbose = 1,\n",
    "        callbacks = [es]\n",
    "    )"
   ]
  }
 ],
 "metadata": {
  "kernelspec": {
   "display_name": "Python 3 (ipykernel)",
   "language": "python",
   "name": "python3"
  },
  "language_info": {
   "codemirror_mode": {
    "name": "ipython",
    "version": 3
   },
   "file_extension": ".py",
   "mimetype": "text/x-python",
   "name": "python",
   "nbconvert_exporter": "python",
   "pygments_lexer": "ipython3",
   "version": "3.9.12"
  }
 },
 "nbformat": 4,
 "nbformat_minor": 5
}

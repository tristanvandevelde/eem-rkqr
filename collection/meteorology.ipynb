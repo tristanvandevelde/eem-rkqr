{
 "cells": [
  {
   "cell_type": "code",
   "execution_count": 2,
   "id": "1e618cdb",
   "metadata": {},
   "outputs": [],
   "source": [
    "import requests\n",
    "import pandas as pd\n",
    "import json"
   ]
  },
  {
   "cell_type": "code",
   "execution_count": 1,
   "id": "7e5763df",
   "metadata": {},
   "outputs": [],
   "source": [
    "url = \"https://archive-api.open-meteo.com/v1/archive?latitude=51.23&longitude=4.39&start_date=2015-01-01&end_date=2023-01-11&hourly=temperature_2m,apparent_temperature,precipitation,cloudcover,shortwave_radiation,direct_radiation,diffuse_radiation,direct_normal_irradiance,windspeed_10m,windgusts_10m\""
   ]
  },
  {
   "cell_type": "code",
   "execution_count": 3,
   "id": "1b3061cf",
   "metadata": {},
   "outputs": [],
   "source": [
    "response = requests.get(url)"
   ]
  },
  {
   "cell_type": "code",
   "execution_count": 4,
   "id": "663793e7",
   "metadata": {},
   "outputs": [],
   "source": [
    "data = json.loads(response.content)"
   ]
  },
  {
   "cell_type": "code",
   "execution_count": 6,
   "id": "27721145",
   "metadata": {},
   "outputs": [],
   "source": [
    "hourly = data[\"hourly\"]"
   ]
  },
  {
   "cell_type": "code",
   "execution_count": 11,
   "id": "4662f0b3",
   "metadata": {},
   "outputs": [],
   "source": [
    "data_selected = list(zip(hourly[\"time\"], hourly[\"temperature_2m\"], \n",
    "                        hourly[\"apparent_temperature\"], hourly[\"precipitation\"],\n",
    "                        hourly[\"cloudcover\"], hourly[\"shortwave_radiation\"],\n",
    "                        hourly[\"direct_radiation\"], hourly[\"diffuse_radiation\"],\n",
    "                        hourly[\"direct_normal_irradiance\"], hourly[\"windspeed_10m\"],\n",
    "                        hourly[\"windgusts_10m\"],))"
   ]
  },
  {
   "cell_type": "code",
   "execution_count": 12,
   "id": "5cad9f27",
   "metadata": {},
   "outputs": [],
   "source": [
    "cols = [\"time\", \"temperature_2m\", \"apparent_temperature\", \"precipitation\", \"cloudcover\", \"shortwave_radiation\",\n",
    "       \"direct_radiation\", \"diffuse_radiation\", \"direct_normal_irradiance\", \"windspeed_10m\", \"windgusts_10m\"]"
   ]
  },
  {
   "cell_type": "code",
   "execution_count": 14,
   "id": "5f0e4408",
   "metadata": {},
   "outputs": [],
   "source": [
    "df_hourly = pd.DataFrame(data_selected, columns = cols)"
   ]
  },
  {
   "cell_type": "code",
   "execution_count": 32,
   "id": "0555925d",
   "metadata": {},
   "outputs": [],
   "source": [
    "df_hourly.to_csv(\"../data/meteo_hourly.csv\", index=False)"
   ]
  },
  {
   "cell_type": "code",
   "execution_count": null,
   "id": "3c1d37b6",
   "metadata": {},
   "outputs": [],
   "source": []
  },
  {
   "cell_type": "code",
   "execution_count": 20,
   "id": "552e1f70",
   "metadata": {},
   "outputs": [],
   "source": [
    "url = \"https://archive-api.open-meteo.com/v1/archive?latitude=51.23&longitude=4.39&start_date=2015-01-01&end_date=2023-01-11&daily=temperature_2m_max,temperature_2m_min,apparent_temperature_max,apparent_temperature_min,sunrise,sunset,shortwave_radiation_sum,precipitation_sum,precipitation_hours,windspeed_10m_max,windgusts_10m_max&timezone=Europe%2FBerlin\""
   ]
  },
  {
   "cell_type": "code",
   "execution_count": 21,
   "id": "3d8e5bba",
   "metadata": {},
   "outputs": [],
   "source": [
    "response = requests.get(url)\n",
    "data = json.loads(response.content)\n",
    "daily = data[\"daily\"]"
   ]
  },
  {
   "cell_type": "code",
   "execution_count": 24,
   "id": "c848b542",
   "metadata": {},
   "outputs": [],
   "source": [
    "data_selected = list(zip(daily[\"time\"], daily[\"temperature_2m_max\"], daily[\"temperature_2m_min\"], \n",
    "                        daily[\"apparent_temperature_max\"], daily[\"apparent_temperature_min\"],\n",
    "                        daily[\"sunrise\"], daily[\"sunset\"],\n",
    "                         daily[\"shortwave_radiation_sum\"], daily[\"precipitation_sum\"], daily[\"precipitation_hours\"],\n",
    "                        daily[\"windspeed_10m_max\"], daily[\"windgusts_10m_max\"]))"
   ]
  },
  {
   "cell_type": "code",
   "execution_count": 25,
   "id": "de015992",
   "metadata": {},
   "outputs": [],
   "source": [
    "cols = [\"time\", \"temperature_2m_max\", \"temperature_2m_min\", \"apparent_temperature_max\",\n",
    "        \"apparent_temperature_min\", \"sunrise\", \"sunset\", \"shortwave_radiation_sum\",\n",
    "       \"percipitation_sum\", \"percipitation_hours\", \"windspeed_10m_max\", \"windgusts_10m_max\"]"
   ]
  },
  {
   "cell_type": "code",
   "execution_count": 26,
   "id": "1ea9c5a2",
   "metadata": {},
   "outputs": [],
   "source": [
    "df_daily = pd.DataFrame(data_selected, columns = cols)"
   ]
  },
  {
   "cell_type": "code",
   "execution_count": 28,
   "id": "1f39e046",
   "metadata": {},
   "outputs": [],
   "source": [
    "df_daily[\"sunrise\"] = df_daily[\"sunrise\"].astype(\"datetime64\")\n",
    "df_daily[\"sunset\"] = df_daily[\"sunset\"].astype(\"datetime64\")\n",
    "df_daily[\"sunhours\"] = df_daily[\"sunset\"] - df_daily[\"sunrise\"]\n",
    "df_daily.drop([\"sunrise\", \"sunset\"], axis=1, inplace=True)\n",
    "df_daily[\"wind_delta\"] = df_daily[\"windgusts_10m_max\"] - df_daily[\"windspeed_10m_max\"]"
   ]
  },
  {
   "cell_type": "code",
   "execution_count": 31,
   "id": "f048c116",
   "metadata": {},
   "outputs": [],
   "source": [
    "df_daily.to_csv(\"../data/meteo_daily.csv\", index=False)"
   ]
  },
  {
   "cell_type": "code",
   "execution_count": null,
   "id": "f8e7b861",
   "metadata": {},
   "outputs": [],
   "source": []
  }
 ],
 "metadata": {
  "kernelspec": {
   "display_name": "Python 3 (ipykernel)",
   "language": "python",
   "name": "python3"
  },
  "language_info": {
   "codemirror_mode": {
    "name": "ipython",
    "version": 3
   },
   "file_extension": ".py",
   "mimetype": "text/x-python",
   "name": "python",
   "nbconvert_exporter": "python",
   "pygments_lexer": "ipython3",
   "version": "3.9.12"
  }
 },
 "nbformat": 4,
 "nbformat_minor": 5
}

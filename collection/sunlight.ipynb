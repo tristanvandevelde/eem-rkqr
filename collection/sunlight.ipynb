{
 "cells": [
  {
   "cell_type": "code",
   "execution_count": 1,
   "id": "7d42a8e5",
   "metadata": {},
   "outputs": [],
   "source": [
    "import requests\n",
    "import pandas as pd\n",
    "import json"
   ]
  },
  {
   "cell_type": "code",
   "execution_count": 2,
   "id": "4559f1c0",
   "metadata": {},
   "outputs": [],
   "source": [
    "url = \"https://archive-api.open-meteo.com/v1/era5?latitude=50.8371&longitude=4.3676&start_date=2015-01-01&end_date=2022-07-13&daily=sunrise,sunset&timezone=Europe%2FBerlin\""
   ]
  },
  {
   "cell_type": "code",
   "execution_count": 3,
   "id": "f23c58d1",
   "metadata": {},
   "outputs": [],
   "source": [
    "response = requests.get(url)"
   ]
  },
  {
   "cell_type": "code",
   "execution_count": 4,
   "id": "12ad0eae",
   "metadata": {},
   "outputs": [],
   "source": [
    "data = json.loads(response.content)\n",
    "time = data[\"daily\"][\"time\"]\n",
    "sunrise = data[\"daily\"][\"sunrise\"]\n",
    "sunset = data[\"daily\"][\"sunset\"]"
   ]
  },
  {
   "cell_type": "code",
   "execution_count": 5,
   "id": "7f2b7a8f",
   "metadata": {},
   "outputs": [],
   "source": [
    "df_out = pd.DataFrame(list(zip(time, sunrise, sunset)), columns = [\"day\", \"sunrise\", \"sunset\"])\n",
    "df_out = df_out.astype(\"datetime64\")\n",
    "df_out[\"sunhours\"] = df_out[\"sunset\"] - df_out[\"sunrise\"]\n",
    "df_out.drop([\"sunrise\", \"sunset\"], axis=1, inplace=True)"
   ]
  },
  {
   "cell_type": "code",
   "execution_count": 6,
   "id": "7353a6e7",
   "metadata": {},
   "outputs": [
    {
     "data": {
      "text/html": [
       "<div>\n",
       "<style scoped>\n",
       "    .dataframe tbody tr th:only-of-type {\n",
       "        vertical-align: middle;\n",
       "    }\n",
       "\n",
       "    .dataframe tbody tr th {\n",
       "        vertical-align: top;\n",
       "    }\n",
       "\n",
       "    .dataframe thead th {\n",
       "        text-align: right;\n",
       "    }\n",
       "</style>\n",
       "<table border=\"1\" class=\"dataframe\">\n",
       "  <thead>\n",
       "    <tr style=\"text-align: right;\">\n",
       "      <th></th>\n",
       "      <th>day</th>\n",
       "      <th>sunhours</th>\n",
       "    </tr>\n",
       "  </thead>\n",
       "  <tbody>\n",
       "    <tr>\n",
       "      <th>0</th>\n",
       "      <td>2015-01-01</td>\n",
       "      <td>0 days 08:07:00</td>\n",
       "    </tr>\n",
       "    <tr>\n",
       "      <th>1</th>\n",
       "      <td>2015-01-02</td>\n",
       "      <td>0 days 08:08:00</td>\n",
       "    </tr>\n",
       "    <tr>\n",
       "      <th>2</th>\n",
       "      <td>2015-01-03</td>\n",
       "      <td>0 days 08:09:00</td>\n",
       "    </tr>\n",
       "    <tr>\n",
       "      <th>3</th>\n",
       "      <td>2015-01-04</td>\n",
       "      <td>0 days 08:10:00</td>\n",
       "    </tr>\n",
       "    <tr>\n",
       "      <th>4</th>\n",
       "      <td>2015-01-05</td>\n",
       "      <td>0 days 08:11:00</td>\n",
       "    </tr>\n",
       "    <tr>\n",
       "      <th>...</th>\n",
       "      <td>...</td>\n",
       "      <td>...</td>\n",
       "    </tr>\n",
       "    <tr>\n",
       "      <th>2746</th>\n",
       "      <td>2022-07-09</td>\n",
       "      <td>0 days 16:20:00</td>\n",
       "    </tr>\n",
       "    <tr>\n",
       "      <th>2747</th>\n",
       "      <td>2022-07-10</td>\n",
       "      <td>0 days 16:18:00</td>\n",
       "    </tr>\n",
       "    <tr>\n",
       "      <th>2748</th>\n",
       "      <td>2022-07-11</td>\n",
       "      <td>0 days 16:16:00</td>\n",
       "    </tr>\n",
       "    <tr>\n",
       "      <th>2749</th>\n",
       "      <td>2022-07-12</td>\n",
       "      <td>0 days 16:14:00</td>\n",
       "    </tr>\n",
       "    <tr>\n",
       "      <th>2750</th>\n",
       "      <td>2022-07-13</td>\n",
       "      <td>0 days 16:12:00</td>\n",
       "    </tr>\n",
       "  </tbody>\n",
       "</table>\n",
       "<p>2751 rows × 2 columns</p>\n",
       "</div>"
      ],
      "text/plain": [
       "            day        sunhours\n",
       "0    2015-01-01 0 days 08:07:00\n",
       "1    2015-01-02 0 days 08:08:00\n",
       "2    2015-01-03 0 days 08:09:00\n",
       "3    2015-01-04 0 days 08:10:00\n",
       "4    2015-01-05 0 days 08:11:00\n",
       "...         ...             ...\n",
       "2746 2022-07-09 0 days 16:20:00\n",
       "2747 2022-07-10 0 days 16:18:00\n",
       "2748 2022-07-11 0 days 16:16:00\n",
       "2749 2022-07-12 0 days 16:14:00\n",
       "2750 2022-07-13 0 days 16:12:00\n",
       "\n",
       "[2751 rows x 2 columns]"
      ]
     },
     "execution_count": 6,
     "metadata": {},
     "output_type": "execute_result"
    }
   ],
   "source": [
    "df_out"
   ]
  },
  {
   "cell_type": "code",
   "execution_count": 6,
   "id": "92c313af",
   "metadata": {},
   "outputs": [],
   "source": [
    "df_out.to_csv(\"../data/sunlight.csv\")"
   ]
  },
  {
   "cell_type": "code",
   "execution_count": null,
   "id": "71e8db79",
   "metadata": {},
   "outputs": [],
   "source": []
  },
  {
   "cell_type": "code",
   "execution_count": null,
   "id": "889e7b16",
   "metadata": {},
   "outputs": [],
   "source": []
  },
  {
   "cell_type": "code",
   "execution_count": null,
   "id": "b246790c",
   "metadata": {},
   "outputs": [],
   "source": []
  }
 ],
 "metadata": {
  "kernelspec": {
   "display_name": "Python 3 (ipykernel)",
   "language": "python",
   "name": "python3"
  },
  "language_info": {
   "codemirror_mode": {
    "name": "ipython",
    "version": 3
   },
   "file_extension": ".py",
   "mimetype": "text/x-python",
   "name": "python",
   "nbconvert_exporter": "python",
   "pygments_lexer": "ipython3",
   "version": "3.9.12"
  }
 },
 "nbformat": 4,
 "nbformat_minor": 5
}

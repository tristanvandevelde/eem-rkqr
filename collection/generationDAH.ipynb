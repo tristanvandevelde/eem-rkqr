{
 "cells": [
  {
   "cell_type": "code",
   "execution_count": 2,
   "id": "84270d58",
   "metadata": {},
   "outputs": [],
   "source": [
    "import pandas as pd\n",
    "import requests\n",
    "import xml.etree.ElementTree as ET\n",
    "from tqdm import tqdm\n",
    "import sys\n",
    "sys.path.append(\"..\")\n",
    "\n",
    "import config"
   ]
  },
  {
   "cell_type": "code",
   "execution_count": 23,
   "id": "75d4f238",
   "metadata": {},
   "outputs": [],
   "source": [
    "domain = \"10Y1001A1001A63L\"\n",
    "\n",
    "# DOMAINS\n",
    "# be: 10YBE----------2\n",
    "# de/lu: 10Y1001A1001A82H\n",
    "# de/at/lu: 10Y1001A1001A63L\n",
    "# nl: 10YNL----------L\n",
    "# fr: 10YFR-RTE------C\n",
    "\n",
    "dates = range(2015, 2023)\n",
    "generationDAH_df = pd.DataFrame([], columns = [\"datetime\", \"generation\"])"
   ]
  },
  {
   "cell_type": "code",
   "execution_count": 24,
   "id": "1b26cb07",
   "metadata": {},
   "outputs": [],
   "source": [
    "def get_response(year, BZ):\n",
    "    \n",
    "    \"\"\"\n",
    "    This function takes in a year and a bidding zone.\n",
    "    It calls the API, and returns the API response.\n",
    "    This can be fed to the data format function.\n",
    "    \"\"\"\n",
    "    \n",
    "    startdate = str(year) + \"01010000\"\n",
    "    enddate = str(year) + \"12312300\"\n",
    "    domain = BZ\n",
    "    \n",
    "    try:\n",
    "        response = requests.get(\"https://web-api.tp.entsoe.eu/api\",\n",
    "                        params = {\"securityToken\": config.security_token,\n",
    "                                \"documentType\": \"A71\",\n",
    "                                \"processType\": \"A01\",\n",
    "                                \"in_Domain\": domain,\n",
    "                                \"periodStart\": startdate,\n",
    "                                \"periodEnd\": enddate})\n",
    "    except requests.exceptions.RequestException as e:\n",
    "        raise SystemExit(e)\n",
    "        \n",
    "    return response"
   ]
  },
  {
   "cell_type": "code",
   "execution_count": 25,
   "id": "d8b9ab49",
   "metadata": {},
   "outputs": [],
   "source": [
    "def parse_data(resp):\n",
    "    \"\"\"\n",
    "    This function takes in a response from the API.\n",
    "    It returns a pandas dataframe with variables start and price. \n",
    "    Price is a number, and start is a datetime variable.\n",
    "    The index starts at 0 and goes until the end.\n",
    "    This function is to be executed per year, per bidding zone.\n",
    "    Resulting dataframes can then later be combined.\n",
    "    \"\"\"\n",
    "    response = resp\n",
    "\n",
    "    root = ET.fromstring(response.content)\n",
    "    timeseries = root.findall(\"./{urn:iec62325.351:tc57wg16:451-6:generationloaddocument:3:0}TimeSeries\")\n",
    "\n",
    "    df_cols = [\"start\", \"position\", \"quantity\"]\n",
    "    df_rows = []\n",
    "\n",
    "    for ts in timeseries:\n",
    "        data = ts[6]\n",
    "        for day in data[2:]:\n",
    "            df_rows.append({\n",
    "                \"start\": data[0][0].text,\n",
    "                \"position\": day[0].text,\n",
    "                \"quantity\": day[1].text\n",
    "            })\n",
    "\n",
    "    combined_df = pd.DataFrame(df_rows, columns = df_cols)\n",
    "\n",
    "    #print(f\"Resolution {data[1].text}\")\n",
    "\n",
    "    combined_df[\"start\"] = combined_df[\"start\"].astype(\"datetime64\")\n",
    "    combined_df[\"position\"] = pd.to_timedelta(combined_df[\"position\"].astype(\"int\"), unit=\"h\")\n",
    "    out_df = pd.DataFrame([], columns = [\"datetime\", \"generation\"])\n",
    "    out_df[\"datetime\"] = combined_df[\"start\"] + combined_df[\"position\"] - pd.to_timedelta(1, unit=\"h\")\n",
    "    out_df[\"generation\"] = combined_df[\"quantity\"]\n",
    "\n",
    "    return out_df"
   ]
  },
  {
   "cell_type": "code",
   "execution_count": 26,
   "id": "fe949c12",
   "metadata": {},
   "outputs": [
    {
     "name": "stderr",
     "output_type": "stream",
     "text": [
      "100%|█████████████████████████████████████████████| 8/8 [00:15<00:00,  1.94s/it]\n"
     ]
    }
   ],
   "source": [
    "for year in tqdm(dates):\n",
    "    resp = get_response(year, domain)\n",
    "    out_df = parse_data(resp)\n",
    "    generationDAH_df = pd.concat([generationDAH_df, out_df], axis=0, ignore_index=True)"
   ]
  },
  {
   "cell_type": "code",
   "execution_count": 27,
   "id": "ca79ddb1",
   "metadata": {},
   "outputs": [],
   "source": [
    "generationDAH_df.to_csv(\"../data/generationDAH_DEATLU.csv\", index=False)"
   ]
  },
  {
   "cell_type": "code",
   "execution_count": null,
   "id": "94ed9581",
   "metadata": {},
   "outputs": [],
   "source": []
  }
 ],
 "metadata": {
  "kernelspec": {
   "display_name": "Python 3 (ipykernel)",
   "language": "python",
   "name": "python3"
  },
  "language_info": {
   "codemirror_mode": {
    "name": "ipython",
    "version": 3
   },
   "file_extension": ".py",
   "mimetype": "text/x-python",
   "name": "python",
   "nbconvert_exporter": "python",
   "pygments_lexer": "ipython3",
   "version": "3.9.12"
  }
 },
 "nbformat": 4,
 "nbformat_minor": 5
}
